{
 "cells": [
  {
   "cell_type": "raw",
   "id": "97f353ec-966b-408a-9e26-48b61e7a5d5f",
   "metadata": {},
   "source": [
    "Q1. Why do we call Python as a general purpose and high-level programming language? \n",
    "\n",
    "Ans1:Python is called general purpose because it can used to design and develop a wide variety of applications, \n",
    "across multiple domain.\n",
    "High-level programming language means it's more user-friendly. \n",
    "Coding in Python is like writing a story in English."
   ]
  },
  {
   "cell_type": "raw",
   "id": "58209a94-5fff-424a-b77d-4c085cf07d6d",
   "metadata": {},
   "source": [
    "Q2. Why is Python called a dynamically typed language? \n",
    "\n",
    "Ans2. Dynamically typed language means that variables are checked against types only when the program is executing.\n",
    "We don't need to declare the variable type, the interpreter automatically interprets it.\n",
    "\n"
   ]
  },
  {
   "cell_type": "raw",
   "id": "934d3300-b5a9-45a7-b553-e2818365f74d",
   "metadata": {},
   "source": [
    "Q3. List some pros and cons of Python programming language?\n",
    "\n",
    "Ans3.\n",
    "Pros:\n",
    "\n",
    "Easy to use\n",
    "Easy to integrate\n",
    "Multi-paradigm approach\n",
    "High library support\n",
    "\n",
    "Cons:\n",
    "\n",
    "Slow speed of execution compared to C,C++\n",
    "Absence from mobile computing and browsers"
   ]
  },
  {
   "cell_type": "raw",
   "id": "2d3fb994-6a10-40ba-9722-2ba3d00af17f",
   "metadata": {},
   "source": [
    "Q4. In what all domains can we use Python?\n",
    "\n",
    "Ans4.\n",
    "\n",
    "Graphic design, image processing applications, Games, and Scientific/ computational Applications\n",
    "Web frameworks and applications\n",
    "Database Access\n",
    "Language Development\n",
    "Prototyping\n",
    "Software Development\n",
    "Data Science and Machine Learning\n",
    "Scripting"
   ]
  },
  {
   "cell_type": "raw",
   "id": "b7433db8-e27d-49aa-bbe9-5da59ca6fbe1",
   "metadata": {},
   "source": [
    "Q5. What are variable and how can we declare them?\n",
    "\n",
    "Ans5. \n",
    "A variable is a symbolic name that is a reference or pointer to an object. \n",
    "Once an object is assigned to a variable, you can refer to the object by that name."
   ]
  },
  {
   "cell_type": "code",
   "execution_count": 1,
   "id": "28a22903-4470-4d4b-b546-5836fc6fee72",
   "metadata": {},
   "outputs": [],
   "source": [
    "var = 17"
   ]
  },
  {
   "cell_type": "raw",
   "id": "ca1db713-392a-4db9-a973-d2174c27d069",
   "metadata": {},
   "source": [
    "Q6. How can we take an input from the user in Python?\n",
    "\n",
    "Ans6. By using input() function."
   ]
  },
  {
   "cell_type": "raw",
   "id": "fe3df875-13ca-45d0-892a-172665f7ef50",
   "metadata": {},
   "source": [
    "Q7. What is the default datatype of the value that has been taken as an input using input() function? \n",
    "Ans7. string"
   ]
  },
  {
   "cell_type": "raw",
   "id": "bfd50198-1920-404f-b1ca-8fd4034a32dc",
   "metadata": {},
   "source": [
    "Q8. What is type casting?\n",
    "\n",
    "Ans8. \n",
    "Type casting means changing the datatype of the variable. \n",
    "We can only type casting the datatype having higher bit value to the lower bit value."
   ]
  },
  {
   "cell_type": "raw",
   "id": "ef1b80ff-3844-4283-8945-354db292e94f",
   "metadata": {},
   "source": [
    "Q9. Can we take more than one input from the user using single input() function? If yes, how? If no, why?\n",
    "\n",
    "Ans9. Yes.\n"
   ]
  },
  {
   "cell_type": "code",
   "execution_count": 5,
   "id": "86de0efd-e761-44c4-a8c5-f90cc1d349e9",
   "metadata": {},
   "outputs": [],
   "source": [
    "# x, y, z = input(\"Enter three values: \").split(\",\")\n",
    "# print(\"Total number of students: \", x)\n",
    "# print(\"Number of boys is : \", y)\n",
    "# print(\"Number of girls is : \", z)\n",
    "# print()"
   ]
  },
  {
   "cell_type": "code",
   "execution_count": null,
   "id": "f12d7e84-2bfc-4831-894a-f0f146532520",
   "metadata": {},
   "outputs": [],
   "source": [
    "# x = [int(x)Q11. Can we use keywords as a variable? Support your answer with reason.\n",
    "\n",
    "Ans11. Yes we can but we shoudn't as it will override the properties of the keyword. for x in input(\"Enter multiple value: \").split(\",\")]\n",
    "# print(\"Number of list is: \", x) "
   ]
  },
  {
   "cell_type": "raw",
   "id": "f5041d8d-7381-4497-a3ad-cbcde4dfb5c3",
   "metadata": {},
   "source": [
    "Q10. What are keywords?\n",
    "\n",
    "Ans10. \n",
    "Keywords in Python are reserved words that can not be used as a variable name,\n",
    "function name, or any other identifier.\n"
   ]
  },
  {
   "cell_type": "raw",
   "id": "d370700a-b9c6-4cb8-acef-e9152fa6efc1",
   "metadata": {},
   "source": [
    "Q11. Can we use keywords as a variable? Support your answer with reason.\n",
    "\n",
    "Ans11. Yes we can but we shoudn't as it will override the properties of the keyword."
   ]
  },
  {
   "cell_type": "raw",
   "id": "b615b156-7cdd-47cd-9732-00ec26625899",
   "metadata": {},
   "source": [
    "Q12. What is indentation? What's the use of indentaion in Python?\n",
    "\n",
    "Ans12. Indentation is the whitespace used in Python. Indentation is used to create block of statement."
   ]
  },
  {
   "cell_type": "raw",
   "id": "e4b460a4-85e0-4fdd-a222-ac903f74ae94",
   "metadata": {},
   "source": [
    "Q13. How can we throw some output in Python?\n",
    "\n",
    "Ans13. Using print() function."
   ]
  },
  {
   "cell_type": "raw",
   "id": "e28c2bf5-4875-431b-b6b0-2c0dd20b20d5",
   "metadata": {},
   "source": [
    "Q14. What are operators in Python?\n",
    "\n",
    "Ans14. Symbols or keywords used to perform certain operations on values or variable are known as operators. \n",
    "There are different types of operators like"
   ]
  },
  {
   "cell_type": "code",
   "execution_count": 7,
   "id": "d16917ee-e6f3-4500-a9de-dd019d1525a9",
   "metadata": {},
   "outputs": [],
   "source": [
    "# Arithmetic operators\n",
    "# Comparison Operators\n",
    "# Logical Operators\n",
    "# Bitwise Operators\n",
    "# Assignment Operators"
   ]
  },
  {
   "cell_type": "raw",
   "id": "d1ef9699-9f22-4a02-8a2d-ba7c61a820b7",
   "metadata": {},
   "source": [
    "Q15. What is difference between / and // operators?\n",
    "\n",
    "Ans15. / is used for float division and // is used of floor (integer) division."
   ]
  },
  {
   "cell_type": "raw",
   "id": "bc81344b-a0a2-4b5e-a5a5-ac68435c5302",
   "metadata": {},
   "source": [
    "Q16. Write a code that gives following as an output.\n",
    "\n",
    "iNeuroniNeuroniNeuroniNeuron\n"
   ]
  },
  {
   "cell_type": "code",
   "execution_count": 8,
   "id": "d1272f91-8044-4720-81c1-f9dab2701336",
   "metadata": {},
   "outputs": [],
   "source": [
    "# def print_ineuron_five_times():\n",
    "#   for i in range(5):\n",
    "#     print(\"iNeuron\")\n",
    "\n",
    "# print_ineuron_five_times()\n"
   ]
  },
  {
   "cell_type": "raw",
   "id": "de404e15-183a-476f-ae4a-3e9198f1759f",
   "metadata": {},
   "source": [
    "Q17. Write a code to take a number as an input from the user and check if the number is odd or even. \n"
   ]
  },
  {
   "cell_type": "code",
   "execution_count": 9,
   "id": "f169107e-cd27-42e6-86ac-c5b19a90e9c7",
   "metadata": {},
   "outputs": [],
   "source": [
    "# Ans17:\n",
    "\n",
    "# num = float(input(\"Enter a number: \"))\n",
    "# if num%2 == 0:\n",
    "#   print(f\"{num} is even\")\n",
    "# else:\n",
    "#   print(f\"{num} is odd\")\n"
   ]
  },
  {
   "cell_type": "raw",
   "id": "6cfa9d7c-baa5-4361-890a-5de980e9043a",
   "metadata": {},
   "source": [
    "Q18. What are boolean operator?\n",
    "\n",
    "Ans18:\n",
    "\n",
    "    True , False , not , and , or are the only built-in Python Boolean operators.\n",
    "\n"
   ]
  },
  {
   "cell_type": "raw",
   "id": "1ad6452e-baab-49f7-8aff-e38aa9cec866",
   "metadata": {},
   "source": [
    "Q19. What will the output of the following?\n",
    "1 or 0\n",
    "\n",
    "0 and 0\n",
    "\n",
    "True and False and True\n",
    "\n",
    "1 or 0 or 0"
   ]
  },
  {
   "cell_type": "raw",
   "id": "75b11b8f-4b26-4364-ba7b-33a2258b10a9",
   "metadata": {},
   "source": [
    "Ans.19 Output of the following code will be\n",
    "1 or 0 -> 1\n",
    "0 and 0 -> 0\n",
    "True and False and True -> False\n",
    "1 or 0 or 0 -> 1"
   ]
  },
  {
   "cell_type": "raw",
   "id": "17bd3d80-d2ac-47f0-8f67-df0e7e221f47",
   "metadata": {},
   "source": [
    "Q20. What are conditional statements in Python?\n",
    "\n",
    "Ans20:\n",
    "    In large projects we have to control the flow of execution of our program and \n",
    "    we want to execute some set of statements only if the given condition is satisfied,\n",
    "    and a different set of statements when it’s not satisfied.\n"
   ]
  },
  {
   "cell_type": "raw",
   "id": "80e5a8be-ffd3-4fcf-a6f7-334e394697a9",
   "metadata": {},
   "source": [
    "Q21. What is use of 'if', 'elif' and 'else' keywords?\n",
    "\n",
    "Ans21:\n",
    "    if is the first condition check for the condition.\n",
    "    if \"if\" is False then elif's condition is checked.\n",
    "    else is checked when all the upper condition fails."
   ]
  },
  {
   "cell_type": "raw",
   "id": "d782af11-4698-43d6-8d82-47c8b74ce49e",
   "metadata": {},
   "source": [
    "Q22. Write a code to take the age of person as an input and if age >= 18 display \"I can vote\". \n",
    "     If age is < 18 display \"I can't vote\".\n"
   ]
  },
  {
   "cell_type": "code",
   "execution_count": 11,
   "id": "0e157e4c-0ba3-49cf-8ac3-48e5ce3bb1f6",
   "metadata": {},
   "outputs": [],
   "source": [
    "#-------------Ans22-----------------\n",
    "# age = int(input(\"Enter you age: \"))\n",
    "# if age >= 18:\n",
    "#     print(\"I can vote\")\n",
    "# else:\n",
    "#     print(\"I can't vote\") "
   ]
  },
  {
   "cell_type": "raw",
   "id": "efcb3fff-fe7a-41d8-9629-bb2701ed488f",
   "metadata": {},
   "source": [
    "Q23. Write a code that displays the sum of all the even numbers from the given list.\n",
    "numbers = [12, 75, 150, 180, 145, 525, 50]\n"
   ]
  },
  {
   "cell_type": "code",
   "execution_count": null,
   "id": "5b1d6c64-cd08-4d7e-a2ca-cea707e77f02",
   "metadata": {},
   "outputs": [],
   "source": [
    "#Ans 23: \n",
    "numbers = [12, 75, 150, 180, 145, 525, 50]\n",
    "add = 0\n",
    "for num in numbers:\n",
    "  if num%2 == 0:\n",
    "    add = add+num\n",
    "  else:\n",
    "    continue\n",
    "print(add) "
   ]
  },
  {
   "cell_type": "raw",
   "id": "ed17e6af-04df-46e9-bd54-41f20b3782dc",
   "metadata": {},
   "source": [
    "Q24. Write a code to take 3 numbers as an input from the user and display the greatest no as output. "
   ]
  },
  {
   "cell_type": "code",
   "execution_count": null,
   "id": "d92c5e58-b9c6-4722-a39f-688ac6e2e6ee",
   "metadata": {},
   "outputs": [],
   "source": [
    "#Ans 24\n",
    "x, y, z = input(\"Enter 3 numbers seprated by comma: \").split(\",\")\n",
    "if int(x) > int(y) and int(x) > int(z):\n",
    "  print(f\"{x} is greatest\")\n",
    "elif int(y) > int(z):\n",
    "  print(f\"{y} is greatest\")\n",
    "else:\n",
    "  print(f\"{z} is greatest\")"
   ]
  },
  {
   "cell_type": "raw",
   "id": "7b0d87d9-68ac-4479-99f7-bdb8f644a243",
   "metadata": {},
   "source": [
    "Q25. Write a program to display only those numbers from a list that satisfy the following conditions\n",
    "\n",
    "The number must be divisible by five\n",
    "\n",
    "If the number is greater than 150, then skip it and move to the next number\n",
    "\n",
    "If the number is greater than 500, then stop the loop\n",
    "\n",
    "numbers = [12, 75, 150, 180, 145, 525, 50]"
   ]
  },
  {
   "cell_type": "code",
   "execution_count": null,
   "id": "134464f2-f8b5-4880-836f-d112c4ee0e8a",
   "metadata": {},
   "outputs": [],
   "source": [
    "#Ans 25\n",
    "numbers = [12, 75, 150, 180, 145, 525, 50]\n",
    "lst = []\n",
    "for num in numbers:\n",
    "  if num > 150:\n",
    "    if num > 500:\n",
    "      break\n",
    "  elif num%5==0:\n",
    "    lst.append(num) \n",
    "\n",
    "print(lst)"
   ]
  },
  {
   "cell_type": "raw",
   "id": "8917feb7-478a-4830-b6a1-9e218bf104f2",
   "metadata": {},
   "source": [
    "Q26. What is a string? How can we declare string in Python?\n",
    "\n",
    "Ans26. In Python, Strings are arrays of bytes representing Unicode characters."
   ]
  },
  {
   "cell_type": "raw",
   "id": "614f1fc0-2014-4c36-9a75-9326c9d487bd",
   "metadata": {},
   "source": [
    "Q27. How can we access the string using its index?\n",
    "\n",
    "Ans27. \n",
    "    Sqaure brackets can used to access the elements of the string."
   ]
  },
  {
   "cell_type": "raw",
   "id": "d09a0763-462c-4b65-a150-03bb88b4ede4",
   "metadata": {},
   "source": [
    "Q28. Write a code to get the desired output of the following\n",
    "\n",
    "string = \"Big Data iNeuron\"\n",
    "desired_output = \"iNeuron\""
   ]
  },
  {
   "cell_type": "code",
   "execution_count": null,
   "id": "22b7ca5b-5040-44e6-92b5-39510538e110",
   "metadata": {},
   "outputs": [],
   "source": [
    "#Ans28.\n",
    "string[9:16]"
   ]
  },
  {
   "cell_type": "raw",
   "id": "5fc345e3-9cc1-41e2-bec8-3bf56e2d6d61",
   "metadata": {},
   "source": [
    "Q29. Write a code to get the desired output of the following\n",
    "string = \"Big Data iNeuron\"\n",
    "desired_output = \"norueNi\""
   ]
  },
  {
   "cell_type": "code",
   "execution_count": null,
   "id": "7f67b011-1c46-406c-a9fe-8b70087b7ffa",
   "metadata": {},
   "outputs": [],
   "source": [
    "#Ans 29\n",
    "string[15:8:-1]"
   ]
  },
  {
   "cell_type": "raw",
   "id": "02b5195b-4a93-40cc-a7b4-f4360efb68ed",
   "metadata": {},
   "source": [
    "Q30. Resverse the string given in the above question.\n"
   ]
  },
  {
   "cell_type": "code",
   "execution_count": null,
   "id": "eb7cabde-7bf6-47d3-acb1-971627fac429",
   "metadata": {},
   "outputs": [],
   "source": [
    "#Ans 30\n",
    "string[::-1]"
   ]
  },
  {
   "cell_type": "raw",
   "id": "bf8773d3-67d0-4b6e-b9eb-552f24c8513d",
   "metadata": {},
   "source": [
    "Q31. How can you delete entire string at once?\n",
    "\n",
    "Ans31. We can delete the entire string at once by using del keyword.\n",
    "str1 = \"Hello\"\n",
    "del(str1)"
   ]
  },
  {
   "cell_type": "raw",
   "id": "d919ebf9-012d-49dc-a75b-b01479c7c574",
   "metadata": {},
   "source": [
    "Q32. What is escape sequence?\n",
    "\n",
    "Ans32. The \"backslash ()\" character as an escape character. \n",
    "In other words, it has a special meaning when we use it inside the strings. \n",
    "As the name suggests, the escape character escapes the characters in a string for a brief moment \n",
    "to introduce unique inclusion."
   ]
  },
  {
   "cell_type": "raw",
   "id": "cd365d41-6e2f-4043-a7b0-0ab27a0c853f",
   "metadata": {},
   "source": [
    "Q33. How can you print the below string?\n",
    "\n",
    "'iNeuron's Big Data Course'"
   ]
  },
  {
   "cell_type": "code",
   "execution_count": null,
   "id": "5e13faad-1f9c-4009-9bbb-1892c59b878e",
   "metadata": {},
   "outputs": [],
   "source": [
    "#Ans33. 'iNeuron's Big Data Course'"
   ]
  },
  {
   "cell_type": "raw",
   "id": "95dc1493-2a00-4716-88fb-15ecf56a30b1",
   "metadata": {},
   "source": [
    "Q34. What is a list in Python?\n",
    "\n",
    "Ans34. Python list are dynamically sized array, declared in languages like C++ and Java. \n",
    "       A list is a collection of things, enclosed in [ ] and separated by commas."
   ]
  },
  {
   "cell_type": "raw",
   "id": "4eebef17-c243-4f2c-9b98-254c839e9444",
   "metadata": {},
   "source": [
    "Q35. How can you create a list in Python?\n",
    "\n",
    "Ans35. We can create a list by opening and closing the square brackets."
   ]
  },
  {
   "cell_type": "raw",
   "id": "79206dea-cd47-4c03-b85e-aaa2dafef517",
   "metadata": {},
   "source": [
    "Q36. How can we access the elements in a list?\n",
    "\n",
    "Ans36. We can access the elements in a list by indexing."
   ]
  },
  {
   "cell_type": "raw",
   "id": "16de8226-559b-4122-aaec-cf498e1ca01c",
   "metadata": {},
   "source": [
    "Q37. Write a code to access the word \"iNeuron\" from the given list.\n",
    "\n",
    "lst = [1,2,3,\"Hi\",[45,54, \"iNeuron\"], \"Big Data\"]\n",
    "\n",
    "Ans37\n",
    "\n",
    "lst = [1,2,3,\"Hi\",[45,54, \"iNeuron\"], \"Big Data\"]\n",
    "lst[4][2]"
   ]
  },
  {
   "cell_type": "raw",
   "id": "007d23b7-9183-421c-a2bc-fb70fdfa3307",
   "metadata": {},
   "source": [
    "Q38. Take a list as an input from the user and find the length of the list.\n"
   ]
  },
  {
   "cell_type": "code",
   "execution_count": null,
   "id": "f9f070d8-3ea7-4ac7-b392-4fa011858aeb",
   "metadata": {},
   "outputs": [],
   "source": [
    "#Ans 38:\n",
    "n = input(\"Enter number of elements seprated by space: \").split(\" \")\n",
    "print(len(n))"
   ]
  },
  {
   "cell_type": "raw",
   "id": "c9edfe87-f5cd-4d66-8cbf-420416592987",
   "metadata": {},
   "source": [
    "Q39. Add the word \"Big\" in the 3rd index of the given list.\n",
    "lst = [\"Welcome\", \"to\", \"Data\", \"course\"]\n"
   ]
  },
  {
   "cell_type": "code",
   "execution_count": null,
   "id": "6a9cef5f-86e4-41fb-a6da-ce2f19ccc906",
   "metadata": {},
   "outputs": [],
   "source": [
    "#Ans 38:\n",
    "lst = [\"Welcome\", \"to\", \"Data\", \"course\"]\n",
    "lst.insert(2, \"Big\")"
   ]
  },
  {
   "cell_type": "raw",
   "id": "3bb1e3eb-8119-44d7-b2d1-c072f5f545cf",
   "metadata": {},
   "source": [
    "Q40. What is a tuple? How is it different from list?\n",
    "\n",
    "Ans40. \n",
    "Tuple is a collection of Python objects much like a list. \n",
    "The sequence of values stored in a tuple can be of any type, and they are indexed by integers. \n",
    "Tuples are immutable where as list are mutable. \n",
    "We can also faster through the tuples than the list."
   ]
  },
  {
   "cell_type": "raw",
   "id": "30b8c67f-f3fd-4f9e-9498-4d6a132c58c1",
   "metadata": {},
   "source": [
    "Q41. How can you create a tuple in Python?\n",
    "\n",
    "Ans41. We can create tuple using round brackets ().\n"
   ]
  },
  {
   "cell_type": "raw",
   "id": "008f2712-1899-44b9-8713-724c900958db",
   "metadata": {},
   "source": [
    "Q42. Create a tuple and try to add your name in the tuple. Are you able to do it? Support your answer with reason.\n",
    "\n",
    "Ans42. No, I can't as tuples are immutable. The work around is it typecast tuple to list and then append."
   ]
  },
  {
   "cell_type": "code",
   "execution_count": 13,
   "id": "41206d7a-0ac5-4077-9422-f03739779724",
   "metadata": {},
   "outputs": [
    {
     "data": {
      "text/plain": [
       "('Amarjeet',)"
      ]
     },
     "execution_count": 13,
     "metadata": {},
     "output_type": "execute_result"
    }
   ],
   "source": [
    "tup = ()\n",
    "tup = list(tup)\n",
    "tup.append(\"Amarjeet\")\n",
    "tup = tuple(tup)\n",
    "tup"
   ]
  },
  {
   "cell_type": "raw",
   "id": "9adc8b40-0127-4c13-9731-b1ba86e65b84",
   "metadata": {},
   "source": [
    "Q43. Can two tuple be appended. If yes, write a code for it. If not, why?\n",
    "\n",
    "Ans43.\n",
    "Yes, we can."
   ]
  },
  {
   "cell_type": "code",
   "execution_count": 12,
   "id": "f4f3a5b9-1ba4-4a7e-a1c6-a1b092f794f7",
   "metadata": {},
   "outputs": [
    {
     "data": {
      "text/plain": [
       "'Amarjeet Gupta'"
      ]
     },
     "execution_count": 12,
     "metadata": {},
     "output_type": "execute_result"
    }
   ],
   "source": [
    "tup1 = (\"Amarjeet \")\n",
    "tup2 = (\"Gupta\")\n",
    "tup1+tup2"
   ]
  },
  {
   "cell_type": "raw",
   "id": "270ecccb-7335-434f-91d7-1efb081a7f97",
   "metadata": {},
   "source": [
    "Q44. Take a tuple as an input and print the count of elements in it.\n",
    "\n",
    "Ans 44:"
   ]
  },
  {
   "cell_type": "code",
   "execution_count": 15,
   "id": "6a3e9533-d719-49d3-a02e-c10bf4434038",
   "metadata": {},
   "outputs": [],
   "source": [
    "# x = input(\"Enter the values separeted by space: \").split(\" \")\n",
    "# x = tuple(x)\n",
    "# print(len(x))"
   ]
  },
  {
   "cell_type": "raw",
   "id": "d1afae31-1efb-4f59-9af9-d65c2a00fdc5",
   "metadata": {},
   "source": [
    "Q45. What are sets in Python?\n",
    "\n",
    "Ans45. \n",
    "A set is an unordered collection of data types that is iterable, mutable and has no duplicate elements. \n",
    "The order of elements in a set is undefined though it may consist of various elements."
   ]
  },
  {
   "cell_type": "raw",
   "id": "dbcdb6d2-c22b-4d38-b766-57cae0193881",
   "metadata": {},
   "source": [
    "Q46. How can you create a set?\n",
    "\n",
    "Ans46. \n",
    "We can create set using curly brackets {}. \n",
    "Keep in mind empty {} will result in dictionary hence there must be some value in the brackets."
   ]
  },
  {
   "cell_type": "raw",
   "id": "0cbc38ed-89d9-4dab-a8f4-3740fbcdb608",
   "metadata": {},
   "source": [
    "Q47. Create a set and add \"iNeuron\" in your set."
   ]
  },
  {
   "cell_type": "code",
   "execution_count": 17,
   "id": "14445f42-01d5-448d-aa7d-9b03243ed49e",
   "metadata": {},
   "outputs": [
    {
     "data": {
      "text/plain": [
       "{'iNeuron'}"
      ]
     },
     "execution_count": 17,
     "metadata": {},
     "output_type": "execute_result"
    }
   ],
   "source": [
    "#Ans47:\n",
    "set1 = {\"iNeuron\"}\n",
    "set1"
   ]
  },
  {
   "cell_type": "raw",
   "id": "895876a3-5f00-4c44-8711-ce9e3671da79",
   "metadata": {},
   "source": [
    "Q48. Try to add multiple values using add() function.\n"
   ]
  },
  {
   "cell_type": "code",
   "execution_count": 18,
   "id": "0e1d4132-f710-4ca8-9805-946592e60a7a",
   "metadata": {},
   "outputs": [
    {
     "data": {
      "text/plain": [
       "{'Big', 'Data', 'iNeuron'}"
      ]
     },
     "execution_count": 18,
     "metadata": {},
     "output_type": "execute_result"
    }
   ],
   "source": [
    "#Ans48:\n",
    "set1.add(\"Big\")\n",
    "set1.add(\"Data\")\n",
    "set1"
   ]
  },
  {
   "cell_type": "raw",
   "id": "89ecdd7c-a614-4403-9be4-7b9e49513ec7",
   "metadata": {},
   "source": [
    "Q49. How is update() different from add()?\n",
    "\n",
    "Ans49. We can add more than one element in a single go using update(), but using add() it's not possible."
   ]
  },
  {
   "cell_type": "raw",
   "id": "f9b5427e-b674-472b-a929-84e3e8c95182",
   "metadata": {},
   "source": [
    "Q50. What is clear() in sets?\n",
    "\n",
    "Ans50. To remove all the elements from the set, clear() function is used."
   ]
  },
  {
   "cell_type": "raw",
   "id": "54a452e3-abef-47a8-97a0-86a7c5c237c5",
   "metadata": {},
   "source": [
    "Q51. What is frozen set?\n",
    "\n",
    "Ans51. \n",
    "Frozen sets in Python are immutable objects that only support methods and operators that produce a result\n",
    "without affecting the frozen set or sets to which they are applied.\n",
    "While elements of a set can be modified at any time, elements of the frozen set remain the same after creation."
   ]
  },
  {
   "cell_type": "raw",
   "id": "55d2a678-fbcd-4714-a8ef-250ca2a3afa6",
   "metadata": {},
   "source": [
    "Q52. How is frozen set different from set?\n",
    "\n",
    "Ans52.\n",
    "\n",
    "Frozen sets are immutable where as sets are mutable.\n",
    "Sets can't be used as keys in dictionary where as frozen sets can be used."
   ]
  },
  {
   "cell_type": "raw",
   "id": "98c2e407-cefa-48b0-8484-94edf66753b8",
   "metadata": {},
   "source": [
    "Q53. What is union() in sets? Explain via code.\n",
    "\n",
    "Ans53. Python set Union() Method returns a new set which contains all the items from the original set."
   ]
  },
  {
   "cell_type": "code",
   "execution_count": 19,
   "id": "750dd60b-19b0-40af-9eb5-265900f9c992",
   "metadata": {},
   "outputs": [
    {
     "name": "stdout",
     "output_type": "stream",
     "text": [
      "set1 U set2 :  {2, 4, 5, 6, 7, 8}\n",
      "set1 U set2 U set3 : {2, 4, 5, 6, 7, 8, 9, 10}\n"
     ]
    }
   ],
   "source": [
    "set1 = {2, 4, 5, 6}\n",
    "set2 = {4, 6, 7, 8}\n",
    "set3 = {7, 8, 9, 10}\n",
    "\n",
    "print(\"set1 U set2 : \", set1 | set2)\n",
    "\n",
    "print(\"set1 U set2 U set3 :\", set1 |set2 | set3)"
   ]
  },
  {
   "cell_type": "raw",
   "id": "7bc5d69f-09c3-44f6-ba11-26865e73a6a2",
   "metadata": {},
   "source": [
    "Q54. What is intersection() in sets? Explain via code.\n",
    "\n",
    "Ans54. Python set intersection() method returns a new set with an element that is common to all set"
   ]
  },
  {
   "cell_type": "code",
   "execution_count": 20,
   "id": "bcf0a41a-e260-49e8-917c-7fc64ea0d064",
   "metadata": {},
   "outputs": [
    {
     "name": "stdout",
     "output_type": "stream",
     "text": [
      "set1 intersection set2 :  {4, 6}\n",
      "set1 intersection set2 intersection set3 : {4, 6}\n"
     ]
    }
   ],
   "source": [
    "set1 = {2, 4, 5, 6}\n",
    "set2 = {4, 6, 7, 8}\n",
    "set3 = {4, 6, 8}\n",
    "\n",
    "print(\"set1 intersection set2 : \", set1.intersection(set2))\n",
    "\n",
    "print(\"set1 intersection set2 intersection set3 :\", set1.intersection(set2, set3))"
   ]
  },
  {
   "cell_type": "raw",
   "id": "df4dc6bd-80df-4158-9929-4ef25b17aca8",
   "metadata": {},
   "source": [
    "Q55. What is dictionary ibn Python?\n",
    "\n",
    "Ans55. \n",
    "Dictionary in Python is a collection of keys values, used to store data values like a \n",
    "map, which, unlike other \n",
    "data types which hold only a single value as an element."
   ]
  },
  {
   "cell_type": "raw",
   "id": "78922215-7894-4d65-97ac-76f67e5023fa",
   "metadata": {},
   "source": [
    "Q56. How is dictionary different from all other data structures.\n",
    "\n",
    "Ans56. Dictionary is having key and value pair where as all other data structures have only values in them."
   ]
  },
  {
   "cell_type": "raw",
   "id": "fc6a778e-f2f7-4913-aefc-b2540824e026",
   "metadata": {},
   "source": [
    "Q57. How can we delare a dictionary in Python?\n",
    "\n",
    "Ans57. We can create dictionary using curly brackets {}."
   ]
  },
  {
   "cell_type": "raw",
   "id": "9488f8bc-011b-49f8-8a28-6ae0cca7eb0f",
   "metadata": {},
   "source": [
    "Q58. What will the output of the following?"
   ]
  },
  {
   "cell_type": "code",
   "execution_count": 22,
   "id": "9655df05-5b96-4957-b4f2-e59a5bf083af",
   "metadata": {},
   "outputs": [
    {
     "name": "stdout",
     "output_type": "stream",
     "text": [
      "<class 'dict'>\n"
     ]
    }
   ],
   "source": [
    "#Ans58\n",
    "#dict\n",
    "var = {}\n",
    "print(type(var))\n"
   ]
  },
  {
   "cell_type": "raw",
   "id": "825c4676-0acd-4563-85ba-b219ee927d8c",
   "metadata": {},
   "source": [
    "Q59. How can we add an element in a dictionary?\n"
   ]
  },
  {
   "cell_type": "code",
   "execution_count": 24,
   "id": "ea6f6b2f-be68-488f-a53a-496ed6204b3e",
   "metadata": {},
   "outputs": [],
   "source": [
    "Dict = {}\n",
    "Dict[0] = \"Hello\"\n",
    "Dict[1] = [\"Data Science\", \"Big Data\"]"
   ]
  },
  {
   "cell_type": "raw",
   "id": "77283968-ab6a-496d-ba85-8dd9f4b4c077",
   "metadata": {},
   "source": [
    "Q60. Create a dictionary and access all the values in that dictionary.\n"
   ]
  },
  {
   "cell_type": "code",
   "execution_count": 27,
   "id": "919a63a4-f6c7-4198-bce0-c7b8f6bbd873",
   "metadata": {},
   "outputs": [
    {
     "name": "stdout",
     "output_type": "stream",
     "text": [
      "Key is Name and value is Amarjeet\n",
      "Key is Experience and value is 3\n",
      "Key is Organisation and value is RateGain\n"
     ]
    }
   ],
   "source": [
    "#Ans60:\n",
    "Dict = {\"Name\": \"Amarjeet\", \"Experience\": 3, \"Organisation\":\"RateGain\"}\n",
    "for i, j in Dict.items():\n",
    "  print(f\"Key is {i} and value is {j}\")"
   ]
  },
  {
   "cell_type": "raw",
   "id": "83d38c0f-e123-4886-b21e-80115bed2f1b",
   "metadata": {},
   "source": [
    "Q61. Create a nested dictionary and access all the element in the inner dictionary.\n"
   ]
  },
  {
   "cell_type": "code",
   "execution_count": 28,
   "id": "4769ae81-002b-4338-808e-0c3aa1d11c56",
   "metadata": {},
   "outputs": [
    {
     "name": "stdout",
     "output_type": "stream",
     "text": [
      "Key is f_name and value is Amarjeet\n",
      "Key is l_name and value is Gupta\n"
     ]
    }
   ],
   "source": [
    "#Ans 62\n",
    "Dict = {\"Name\": {\"f_name\":\"Amarjeet\", \"l_name\":\"Gupta\"}, \"Experience\": 3, \"Organisation\":\"RateGain\"}\n",
    "for i, j in Dict[\"Name\"].items():\n",
    "  print(f\"Key is {i} and value is {j}\")"
   ]
  },
  {
   "cell_type": "raw",
   "id": "54ad2885-8fd5-421f-8c3e-a349385be27e",
   "metadata": {},
   "source": [
    "Q62. What is the use of get() function?\n",
    "\n",
    "Ans62. get() is also to access the elements in dictionary.\n"
   ]
  },
  {
   "cell_type": "code",
   "execution_count": 29,
   "id": "4694b3ef-8084-4915-8a24-4fbd6b2a6bea",
   "metadata": {},
   "outputs": [
    {
     "name": "stdout",
     "output_type": "stream",
     "text": [
      "Amarjeet\n"
     ]
    }
   ],
   "source": [
    "Dict = {\"Name\": \"Amarjeet\", \"Experience\": 3, \"Organisation\":\"RateGain\"}\n",
    "print(Dict.get(\"Name\"))"
   ]
  },
  {
   "cell_type": "raw",
   "id": "66cfa5f2-978d-467c-8bdd-749eb42d9656",
   "metadata": {},
   "source": [
    "Q63. What is the use of items() function?\n",
    "\n",
    "Ans63. items() method is used to return the list with all dictionary keys with values.\n"
   ]
  },
  {
   "cell_type": "code",
   "execution_count": 30,
   "id": "833b2090-b8ae-464c-9b5f-f732b1150571",
   "metadata": {},
   "outputs": [
    {
     "name": "stdout",
     "output_type": "stream",
     "text": [
      "dict_items([('Name', 'Amarjeet'), ('Experience', 3), ('Organisation', 'RateGain')])\n"
     ]
    }
   ],
   "source": [
    "Dict = {\"Name\": \"Amarjeet\", \"Experience\": 3, \"Organisation\":\"RateGain\"}\n",
    "print(Dict.items())"
   ]
  },
  {
   "cell_type": "raw",
   "id": "bb18d9b0-b938-4868-9d76-2db6d9c7c57e",
   "metadata": {},
   "source": [
    "Q64. What is the use of pop() function?"
   ]
  },
  {
   "cell_type": "code",
   "execution_count": 32,
   "id": "107cc168-8443-4c60-ab87-a248a3ddc2b1",
   "metadata": {},
   "outputs": [
    {
     "name": "stdout",
     "output_type": "stream",
     "text": [
      "Amarjeet\n",
      "{'Experience': 3, 'Organisation': 'RateGain'}\n"
     ]
    }
   ],
   "source": [
    "#Ans64\n",
    "Dict = {\"Name\": \"Amarjeet\", \"Experience\": 3, \"Organisation\":\"RateGain\"}\n",
    "print(Dict.pop(\"Name\"))\n",
    "print(Dict)"
   ]
  },
  {
   "cell_type": "raw",
   "id": "4b8bf4ea-1b3f-489b-a221-6cb86a6dfd1a",
   "metadata": {},
   "source": [
    "Q65. What is the use of popitems() function?\n",
    "\n",
    "Ans65. popitem() method removes the last inserted key-value pair from the dictionary and returns it as a tuple.\n",
    "\n"
   ]
  },
  {
   "cell_type": "code",
   "execution_count": 34,
   "id": "dadf900e-b870-41c4-a197-16254f414199",
   "metadata": {},
   "outputs": [
    {
     "name": "stdout",
     "output_type": "stream",
     "text": [
      "('Organisation', 'RateGain')\n",
      "{'Name': 'Amarjeet', 'Experience': 3}\n"
     ]
    }
   ],
   "source": [
    "Dict = {\"Name\": \"Amarjeet\", \"Experience\": 3, \"Organisation\":\"RateGain\"}\n",
    "print(Dict.popitem())\n",
    "print(Dict)"
   ]
  },
  {
   "cell_type": "raw",
   "id": "2240c58f-67bf-469e-9776-99bfd89c0b8d",
   "metadata": {},
   "source": [
    "Q66. What is the use of keys() function?\n",
    "\n",
    "Ans66. keys() method returns a view object that displays a list of all the keys in the dictionary."
   ]
  },
  {
   "cell_type": "code",
   "execution_count": 35,
   "id": "b0a1e64a-b2e1-4b1f-ac84-163346160f0d",
   "metadata": {},
   "outputs": [
    {
     "name": "stdout",
     "output_type": "stream",
     "text": [
      "dict_keys(['Name', 'Experience', 'Organisation'])\n"
     ]
    }
   ],
   "source": [
    "Dict = {\"Name\": \"Amarjeet\", \"Experience\": 3, \"Organisation\":\"RateGain\"}\n",
    "print(Dict.keys())"
   ]
  },
  {
   "cell_type": "raw",
   "id": "4eb25402-2f5b-486b-979a-f0ee7580db65",
   "metadata": {},
   "source": [
    "Q67. What is the use of values() function?\n",
    "\n",
    "Ans67. \n",
    "values() is an inbuilt method in Python programming language that returns a view object.\n",
    "The view object contains the values of the dictionary, as a list."
   ]
  },
  {
   "cell_type": "code",
   "execution_count": 36,
   "id": "8aea54d3-8f8d-4e09-a80f-2b7f2439d464",
   "metadata": {},
   "outputs": [
    {
     "name": "stdout",
     "output_type": "stream",
     "text": [
      "dict_values(['Amarjeet', 3, 'Gupta'])\n"
     ]
    }
   ],
   "source": [
    "Dict = {\"Name\": \"Amarjeet\", \"Experience\": 3, \"Organisation\":\"Gupta\"}\n",
    "print(Dict.values())"
   ]
  },
  {
   "cell_type": "raw",
   "id": "5d2c298d-edbf-477b-95f9-4004bc62ed8e",
   "metadata": {},
   "source": [
    "Q68. What are loops in Python?\n",
    "\n",
    "Ans68. Loops are used the iterate over a block of statement multiple times."
   ]
  },
  {
   "cell_type": "raw",
   "id": "10058b1a-bf83-4834-8766-d513aedcc083",
   "metadata": {},
   "source": [
    "Q69. How many type of loop are there in Python?\n",
    "\n",
    "Ans69. There is for and while loop in Python"
   ]
  },
  {
   "cell_type": "raw",
   "id": "b42a176c-1c50-41e3-a1c8-bbd143327c0b",
   "metadata": {},
   "source": [
    "Q70. What is the difference between for and while loops?\n",
    "\n",
    "Ans70. \n",
    "When we know the exact number of iterations, we can use for loop. When we want the to run till a certain condition is true we can use while loop."
   ]
  },
  {
   "cell_type": "raw",
   "id": "2c67ffd3-5a29-478d-8f59-0de11af21fa2",
   "metadata": {},
   "source": [
    "Q71. What is the use of continue statement?\n",
    "\n",
    "Ans71. \n",
    "Continue Statement skips the execution of the program block from after the continue statement and forces the control to start the next iteration."
   ]
  },
  {
   "cell_type": "raw",
   "id": "ee6f2a34-a4f6-4d55-8330-f748dd95ab81",
   "metadata": {},
   "source": [
    "Q72. What is the use of break statement?\n",
    "\n",
    "Ans72. \n",
    "break statement in Python is used to bring the\n",
    "control out of the loop when some external condition is triggered.\n",
    "break statement is put inside the loop body"
   ]
  },
  {
   "cell_type": "raw",
   "id": "95e63bfb-511a-4dea-a2a8-4626c6dff79c",
   "metadata": {},
   "source": [
    "Q73. What is the use of pass statement?\n",
    "\n",
    "Ans73. \n",
    "The pass statement is a null statement. \n",
    "But the difference between pass and comment is that comment is ignored by the interpreter \n",
    "whereas pass is not ignored."
   ]
  },
  {
   "cell_type": "raw",
   "id": "ba07cab8-5a0b-4f72-87c3-c97f1e568581",
   "metadata": {},
   "source": [
    "Q74. What is the use of range() function?\n",
    "\n",
    "Ans74. \n",
    "range() function returns a sequence of numbers, in a given range. \n",
    "The most common use of it is to iterate sequence on a sequence of numbers"
   ]
  },
  {
   "cell_type": "raw",
   "id": "1c9ce5a2-3380-44ba-9e1e-a0b4ccd4379a",
   "metadata": {},
   "source": [
    "Q75. How can you loop over a dictionary?\n"
   ]
  },
  {
   "cell_type": "code",
   "execution_count": 37,
   "id": "b3431566-760e-47ae-bd03-4a7c330e1b1f",
   "metadata": {},
   "outputs": [
    {
     "name": "stdout",
     "output_type": "stream",
     "text": [
      "Gujarat\n",
      "Maharashtra\n",
      "Rajasthan\n",
      "Bihar\n"
     ]
    }
   ],
   "source": [
    "statesAndCapitals = {\n",
    "\t'Gujarat': 'Gandhinagar',\n",
    "\t'Maharashtra': 'Mumbai',\n",
    "\t'Rajasthan': 'Jaipur',\n",
    "\t'Bihar': 'Patna'\n",
    "}\n",
    "\n",
    "for state in statesAndCapitals:\n",
    "\tprint(state)"
   ]
  },
  {
   "cell_type": "raw",
   "id": "cbb0a3c7-d3b8-4572-927a-b85520161a09",
   "metadata": {},
   "source": []
  },
  {
   "cell_type": "markdown",
   "id": "d3c25b28-1d2e-4897-8201-ccdd6ea52bc6",
   "metadata": {},
   "source": [
    "##-------------------Coding problems--------------------------------##"
   ]
  },
  {
   "cell_type": "raw",
   "id": "f5114cb0-5c1c-41bc-b05c-6d53e70ddf82",
   "metadata": {},
   "source": [
    "Q76. Write a Python program to find the factorial of a given number.\n"
   ]
  },
  {
   "cell_type": "code",
   "execution_count": 38,
   "id": "24df98bd-57f3-4da3-bcfc-5ac4fbd503f1",
   "metadata": {},
   "outputs": [
    {
     "name": "stdout",
     "output_type": "stream",
     "text": [
      "Factorial of 6 is 720\n"
     ]
    }
   ],
   "source": [
    "#Ans76-->\n",
    "def factorial(n):\n",
    "  if n < 0:\n",
    "    return 0\n",
    "  elif n == 0 or n == 1:\n",
    "    return 1\n",
    "  else:\n",
    "    fact = 1\n",
    "    while(n>1):\n",
    "      fact *= n\n",
    "      n -= 1\n",
    "    return fact\n",
    "\n",
    "n=6\n",
    "print(f\"Factorial of {n} is {factorial(n)}\")"
   ]
  },
  {
   "cell_type": "raw",
   "id": "d7708651-dad2-4edf-8efb-f4ed4c41d2d2",
   "metadata": {},
   "source": [
    "Q77. Write a Python program to calculate the simple interest. \n",
    "     Formula to calculate simple interest is SI = (PRT)/100\n"
   ]
  },
  {
   "cell_type": "code",
   "execution_count": 39,
   "id": "537180e1-40c6-460a-adfd-ce51357ebb60",
   "metadata": {},
   "outputs": [
    {
     "name": "stdout",
     "output_type": "stream",
     "text": [
      "Simple interest is 3.84\n"
     ]
    },
    {
     "data": {
      "text/plain": [
       "3.84"
      ]
     },
     "execution_count": 39,
     "metadata": {},
     "output_type": "execute_result"
    }
   ],
   "source": [
    "#Ans77-->\n",
    "def SI(p,r,t):\n",
    "  si = (p*r*t)/100\n",
    "  print(f\"Simple interest is {si}\")\n",
    "  return si\n",
    "\n",
    "SI(8, 8, 6)"
   ]
  },
  {
   "cell_type": "raw",
   "id": "105ea89c-79fd-4297-88a6-6cd3b5016c79",
   "metadata": {},
   "source": [
    "Q78. Write a Python program to calculate the compound interest. \n",
    "     Formula of compound interest is A = P(1+ R/100)^t.\n"
   ]
  },
  {
   "cell_type": "code",
   "execution_count": 40,
   "id": "b09f0afb-e108-4cc9-a065-9d3ef1a93d55",
   "metadata": {},
   "outputs": [
    {
     "name": "stdout",
     "output_type": "stream",
     "text": [
      "Compound intrest is 6288.946267774416\n"
     ]
    },
    {
     "data": {
      "text/plain": [
       "6288.946267774416"
      ]
     },
     "execution_count": 40,
     "metadata": {},
     "output_type": "execute_result"
    }
   ],
   "source": [
    "#Ans 78\n",
    "def CI(p, r, t):\n",
    "  amount = p*(1+r/100)**t\n",
    "  ci = amount - p\n",
    "  print(f\"Compound intrest is {ci}\")\n",
    "  return ci\n",
    "\n",
    "CI(10000, 10.25, 5)"
   ]
  },
  {
   "cell_type": "raw",
   "id": "a43ea449-1654-49ea-89c3-1f2d62762263",
   "metadata": {},
   "source": [
    "Q79. Write a Python program to check if a number is prime or not.\n"
   ]
  },
  {
   "cell_type": "code",
   "execution_count": 41,
   "id": "d8e422fb-9f89-41c5-b057-c64e69e50525",
   "metadata": {},
   "outputs": [
    {
     "name": "stdout",
     "output_type": "stream",
     "text": [
      "134 is not a prime number.\n"
     ]
    }
   ],
   "source": [
    "#Ans 79\n",
    "from math import sqrt\n",
    "\n",
    "def is_prime(n):\n",
    "  prime_flag = 0\n",
    "\n",
    "  if(n > 1):\n",
    "    for i in range(2, int(sqrt(n)) + 1):\n",
    "      if (n % i == 0):\n",
    "        prime_flag = 1\n",
    "        break\n",
    "    if (prime_flag == 0):\n",
    "      print(f\"{n} is a prime number.\")\n",
    "    else:\n",
    "      print(f\"{n} is not a prime number.\")\n",
    "  else:\n",
    "    print(f\"{n} is not a prime number.\")\n",
    "\n",
    "is_prime(134)"
   ]
  },
  {
   "cell_type": "raw",
   "id": "3a944cb9-efdd-4e3e-affc-a69463159daa",
   "metadata": {},
   "source": [
    "Q81. Write a Python program to find the n-th Fibonacci Number."
   ]
  },
  {
   "cell_type": "code",
   "execution_count": 42,
   "id": "fd8660cb-ecc6-4b80-a98a-c9ce6c489db3",
   "metadata": {},
   "outputs": [
    {
     "name": "stdout",
     "output_type": "stream",
     "text": [
      "8\n"
     ]
    }
   ],
   "source": [
    "def Fibonacci(n):\n",
    "\tif n<= 0:\n",
    "\t\tprint(\"Incorrect input\")\n",
    "\telif n == 1:\n",
    "\t\treturn 0\n",
    "\telif n == 2:\n",
    "\t\treturn 1\n",
    "\telse:\n",
    "\t\treturn Fibonacci(n-1)+Fibonacci(n-2)\n",
    "\n",
    "print(Fibonacci(7))"
   ]
  },
  {
   "cell_type": "raw",
   "id": "94a82c93-721f-47fb-a505-1b443c61f214",
   "metadata": {},
   "source": [
    "Q82. Write a Python program to interchange the first and last element in a list."
   ]
  },
  {
   "cell_type": "code",
   "execution_count": 43,
   "id": "b49ea043-2100-4c5a-9470-2545d0a818ee",
   "metadata": {},
   "outputs": [
    {
     "name": "stdout",
     "output_type": "stream",
     "text": [
      "[29, 12, 35, 17, 9, 56, 15]\n"
     ]
    }
   ],
   "source": [
    "def swap_list(newList):\n",
    "\tsize = len(newList)\n",
    "\ttemp = newList[0]\n",
    "\tnewList[0] = newList[size - 1]\n",
    "\tnewList[size - 1] = temp\n",
    "\t\n",
    "\treturn newList\n",
    "\n",
    "newList = [15, 12, 35, 17, 9, 56, 29]\n",
    "\n",
    "print(swap_list(newList))"
   ]
  },
  {
   "cell_type": "code",
   "execution_count": null,
   "id": "5b056883-0ee7-45b7-89ef-69a3258391bb",
   "metadata": {},
   "outputs": [],
   "source": [
    "#Second Way"
   ]
  },
  {
   "cell_type": "code",
   "execution_count": 44,
   "id": "38c1e162-7ab1-4bb8-85af-b5e4d60e0dc4",
   "metadata": {},
   "outputs": [
    {
     "name": "stdout",
     "output_type": "stream",
     "text": [
      "[29, 12, 35, 17, 9, 56, 15]\n"
     ]
    }
   ],
   "source": [
    "def swap_list(newList):\n",
    "     \n",
    "    newList[0], newList[-1] = newList[-1], newList[0]\n",
    " \n",
    "    return newList\n",
    "     \n",
    "newList = [15, 12, 35, 17, 9, 56, 29]\n",
    "print(swap_list(newList))"
   ]
  },
  {
   "cell_type": "raw",
   "id": "b3741437-c670-49e2-8d09-0bebfb31ed19",
   "metadata": {},
   "source": [
    "Q83. Write a Python program to swap two elements in a list."
   ]
  },
  {
   "cell_type": "code",
   "execution_count": 45,
   "id": "79b119a6-6fad-4016-92ad-bfaf12bc84fd",
   "metadata": {},
   "outputs": [
    {
     "name": "stdout",
     "output_type": "stream",
     "text": [
      "Original list: [15, 12, 35, 17, 9, 56, 29]\n",
      "Swapped list: [15, 17, 35, 12, 9, 56, 29]\n"
     ]
    }
   ],
   "source": [
    "def swapPositions(list, pos1, pos2):\n",
    "\t\n",
    "\tlist[pos1], list[pos2] = list[pos2], list[pos1]\n",
    "\treturn list\n",
    "\n",
    "List = [15, 12, 35, 17, 9, 56, 29]\n",
    "pos1, pos2 = 1, 3\n",
    "\n",
    "print(f\"Original list: {List}\")\n",
    "print(f\"Swapped list: {swapPositions(List, pos1, pos2)}\")"
   ]
  },
  {
   "cell_type": "raw",
   "id": "63533a7d-d22f-41dd-910c-386bb7c5e87c",
   "metadata": {},
   "source": [
    "Q84. Write a Python program to find N largest element from a list.\n"
   ]
  },
  {
   "cell_type": "code",
   "execution_count": 46,
   "id": "0ea5e647-8a8c-4f80-9a33-0c854fe5b69f",
   "metadata": {},
   "outputs": [
    {
     "name": "stdout",
     "output_type": "stream",
     "text": [
      "[85, 41, 10]\n"
     ]
    }
   ],
   "source": [
    "def n_max_elements(list1, N):\n",
    "\tfinal_list = []\n",
    "\n",
    "\tfor i in range(0, N):\n",
    "\t\tmax1 = 0\n",
    "\t\t\n",
    "\t\tfor j in range(len(list1)):\t\n",
    "\t\t\tif list1[j] > max1:\n",
    "\t\t\t\tmax1 = list1[j];\n",
    "\t\t\t\t\n",
    "\t\tlist1.remove(max1);\n",
    "\t\tfinal_list.append(max1)\n",
    "\t\t\n",
    "\tprint(final_list)\n",
    "\n",
    "list1 = [2, 6, 41, 85, 0, 3, 7, 6, 10]\n",
    "N = 3\n",
    "\n",
    "n_max_elements(list1, N)"
   ]
  },
  {
   "cell_type": "raw",
   "id": "e37c8c65-0ded-483b-b72e-e75ae8b0676a",
   "metadata": {},
   "source": [
    "Q85. Write a Python program to find cumulative sum of a list.\n"
   ]
  },
  {
   "cell_type": "code",
   "execution_count": 47,
   "id": "6f868518-fbb4-4776-a5c7-3c7081fa2fd0",
   "metadata": {},
   "outputs": [
    {
     "name": "stdout",
     "output_type": "stream",
     "text": [
      "Cumulative sum of the list is [10, 30, 60, 100, 150]\n"
     ]
    }
   ],
   "source": [
    "def cumulative_sum(lists):\n",
    "\tcu_list = []\n",
    "\tlength = len(lists)\n",
    "\tcu_list = [sum(lists[0:x:1]) for x in range(0, length+1)]\n",
    "\treturn cu_list[1:]\n",
    "\n",
    "lists = [10, 20, 30, 40, 50]\n",
    "print(f\"Cumulative sum of the list is {cumulative_sum(lists)}\")"
   ]
  },
  {
   "cell_type": "raw",
   "id": "164803fc-14f6-44cb-9535-c3e93d98b4c3",
   "metadata": {},
   "source": [
    "Q86. Write a Python program to check if a string is palindrome or not.\n"
   ]
  },
  {
   "cell_type": "code",
   "execution_count": 53,
   "id": "6da38556-9b4a-44ad-a0e7-eb69573e2c4a",
   "metadata": {},
   "outputs": [
    {
     "data": {
      "text/plain": [
       "'dad is palindrome'"
      ]
     },
     "execution_count": 53,
     "metadata": {},
     "output_type": "execute_result"
    }
   ],
   "source": [
    "#Ans 86\n",
    "def isPalindrome(s):\n",
    "  if s == s[::-1]:\n",
    "\t  return f\"{s} is palindrome\"\n",
    "  return f\"{s} is not palindrome\"\n",
    "\n",
    "s = \"dad\"\n",
    "isPalindrome(s)\n"
   ]
  },
  {
   "cell_type": "code",
   "execution_count": 54,
   "id": "244418ad-64ef-4047-ad2b-2692cde9f326",
   "metadata": {},
   "outputs": [
    {
     "data": {
      "text/plain": [
       "'Shaad is not palindrome'"
      ]
     },
     "execution_count": 54,
     "metadata": {},
     "output_type": "execute_result"
    }
   ],
   "source": [
    "def isPalindrome(s):\n",
    "  if s == s[::-1]:\n",
    "\t  return f\"{s} is palindrome\"\n",
    "  return f\"{s} is not palindrome\"\n",
    "\n",
    "s = \"Shaad\"\n",
    "isPalindrome(s)"
   ]
  },
  {
   "cell_type": "raw",
   "id": "86216cd7-8fb1-41c6-b8f8-72cd6e1b0bcd",
   "metadata": {},
   "source": [
    "Q87. Write a Python program to remove i'th element from a string.\n"
   ]
  },
  {
   "cell_type": "code",
   "execution_count": 56,
   "id": "af8cfd3d-df20-4475-b9f7-cc2dee6766e1",
   "metadata": {},
   "outputs": [
    {
     "data": {
      "text/plain": [
       "'Big Dta Bootcamp 2.0'"
      ]
     },
     "execution_count": 56,
     "metadata": {},
     "output_type": "execute_result"
    }
   ],
   "source": [
    "#Ans87:\n",
    "def remove_ith_element(i):\n",
    "  str1 = \"Big Data Bootcamp 2.0\"\n",
    "  str2 = \"\"\n",
    "\n",
    "  for n in range(len(str1)):\n",
    "    if n == i:\n",
    "      continue\n",
    "    else:\n",
    "      str2 = str2 + str1[n]\n",
    "\n",
    "  return str2\n",
    "\n",
    "remove_ith_element(5)   "
   ]
  },
  {
   "cell_type": "raw",
   "id": "edc66cc8-b3f4-456c-88e5-121b2ee81f85",
   "metadata": {},
   "source": [
    "Q88. Write a Python program to check if a substring is present in a given string."
   ]
  },
  {
   "cell_type": "code",
   "execution_count": 57,
   "id": "c0e44eba-5fd5-4765-b20a-f31ac37956ed",
   "metadata": {},
   "outputs": [
    {
     "name": "stdout",
     "output_type": "stream",
     "text": [
      "\"iNeuron\" is a substring of \"Welcome to iNeuron Big Data Bootcamp 2.0\"\n"
     ]
    }
   ],
   "source": [
    "#Ans 88\n",
    "def check_substring(s2, s1):\n",
    "\tif (s2.count(s1) > 0):\n",
    "\t\tprint(f'\"{s1}\" is a substring of \"{s2}\"')\n",
    "\telse:\n",
    "\t\tprint(f'\"{s1}\" is not a substring of \"{s2}\"')\n",
    "\n",
    "\n",
    "s2 = \"Welcome to iNeuron Big Data Bootcamp 2.0\"\n",
    "s1 = \"iNeuron\"\n",
    "check_substring(s2, s1)"
   ]
  },
  {
   "cell_type": "raw",
   "id": "c6622232-bad6-4e70-b599-950c71afea7a",
   "metadata": {},
   "source": [
    "Q89. Write a Python program to find words which are greater than given length k."
   ]
  },
  {
   "cell_type": "code",
   "execution_count": 65,
   "id": "7622c3fa-937d-4891-8026-8f40171aad50",
   "metadata": {},
   "outputs": [
    {
     "name": "stdout",
     "output_type": "stream",
     "text": [
      "['Data', 'Bootcamp']\n"
     ]
    }
   ],
   "source": [
    "#Ans89\n",
    "def string_greater_than_k(k, str):\n",
    "\t\n",
    "\tstring = []\n",
    "\n",
    "\ttext = str.split(\" \")\n",
    "\n",
    "\tfor x in text:\n",
    "\n",
    "\t\tif len(x) > k:\n",
    "\n",
    "\t\t\tstring.append(x)\n",
    "\n",
    "\treturn string\n",
    "\n",
    "k = 3\n",
    "str =\"Big Data Bootcamp 2.0\"\n",
    "print(string_greater_than_k(k, str))"
   ]
  },
  {
   "cell_type": "raw",
   "id": "a531c3a5-3ba3-4309-b212-031e0b60a75e",
   "metadata": {},
   "source": [
    "Q90. Write a Python program to extract unquire dictionary values.\n"
   ]
  },
  {
   "cell_type": "code",
   "execution_count": 66,
   "id": "1f86e795-f42c-4e4c-aeb3-7b980573e089",
   "metadata": {},
   "outputs": [],
   "source": [
    "#Ans90\n",
    "# test_dict = {\n",
    "#     'iNeuron': [5, 6, 7, 8],\n",
    "#     'is': [10, 11, 7, 5],\n",
    "#     'best': [6, 12, 10, 8],\n",
    "#     'for': [1, 2, 5],\n",
    "#     'big data': [2, 7, 12, 9]\n",
    "# }\n",
    "\n",
    "# print(\"The original dictionary is: \" + str(test_dict))\n",
    "\n",
    "# res = list(sorted({ele for val in test_dict.values() for ele in val}))\n",
    "\n",
    "# print(\"The unique values list is: \" + str(res))"
   ]
  },
  {
   "cell_type": "raw",
   "id": "98edd657-1cf2-4ea0-9932-737b37c3c681",
   "metadata": {},
   "source": [
    "Q91. Write a Python program to merge two dictionary.\n"
   ]
  },
  {
   "cell_type": "code",
   "execution_count": 67,
   "id": "6639e0d8-1460-4686-bc4d-87cbc1ba4f79",
   "metadata": {},
   "outputs": [
    {
     "name": "stdout",
     "output_type": "stream",
     "text": [
      "None\n",
      "{'d': 6, 'c': 4, 'a': 10, 'b': 8}\n"
     ]
    }
   ],
   "source": [
    "def Merge(dict1, dict2):\n",
    "\treturn(dict2.update(dict1))\n",
    "\n",
    "dict1 = {'a': 10, 'b': 8}\n",
    "dict2 = {'d': 6, 'c': 4}\n",
    "\n",
    "print(Merge(dict1, dict2))\n",
    "\n",
    "print(dict2)"
   ]
  },
  {
   "cell_type": "raw",
   "id": "7afc2adb-0470-46a3-a76c-3adc4f562540",
   "metadata": {},
   "source": [
    "Q92. Write a Python program to convert a list of tuples into dictionary.\n"
   ]
  },
  {
   "cell_type": "code",
   "execution_count": 68,
   "id": "acb530b2-16eb-4684-b7b8-2dad5db63b19",
   "metadata": {},
   "outputs": [],
   "source": [
    "Input : [('Sachin', 10), ('MSD', 7), ('Kohli', 18), ('Rohit', 45)]\n",
    "Output : {'Sachin': 10, 'MSD': 7, 'Kohli': 18, 'Rohit': 45}"
   ]
  },
  {
   "cell_type": "code",
   "execution_count": 70,
   "id": "3b3b8ff9-bbf2-4a0a-ac40-7fa1d754ca97",
   "metadata": {},
   "outputs": [
    {
     "name": "stdout",
     "output_type": "stream",
     "text": [
      "{'Sachin': 10, 'MSD': 7, 'Kohli': 18, 'Rohit': 45}\n"
     ]
    }
   ],
   "source": [
    "#ANs92\n",
    "print (dict([('Sachin', 10), ('MSD', 7), ('Kohli', 18), ('Rohit', 45)]))"
   ]
  },
  {
   "cell_type": "raw",
   "id": "926f1d8c-3a7e-48f0-b346-0155bf863a11",
   "metadata": {},
   "source": [
    "Q93. Write a Python program to create a list of tuples from given list having number and its cube in each tuple.\n"
   ]
  },
  {
   "cell_type": "code",
   "execution_count": 71,
   "id": "af2f8e34-8188-4b1a-a082-26dce874684a",
   "metadata": {},
   "outputs": [],
   "source": [
    "Input: list = [9, 5, 6]\n",
    "Output: [(9, 729), (5, 125), (6, 216)]"
   ]
  },
  {
   "cell_type": "code",
   "execution_count": 72,
   "id": "bfbce8c1-d55f-491b-be5b-e4a84f0ec7e3",
   "metadata": {},
   "outputs": [
    {
     "name": "stdout",
     "output_type": "stream",
     "text": [
      "[(9, 729), (5, 125), (6, 216)]\n"
     ]
    }
   ],
   "source": [
    "#Ans 93\n",
    "list1 = [9, 5, 6]\n",
    "\n",
    "res = [(val, pow(val, 3)) for val in list1]\n",
    "\n",
    "print(res)"
   ]
  },
  {
   "cell_type": "raw",
   "id": "107eebf9-5c39-46ce-b22f-1937e0ff23e1",
   "metadata": {},
   "source": [
    "Q94. Write a Python program to get all combinations of 2 tuples.\n",
    "Input : test_tuple1 = (7, 2), test_tuple2 = (7, 8)\n",
    "Output : [(7, 7), (7, 8), (2, 7), (2, 8), (7, 7), (7, 2), (8, 7), (8, 2)]\n"
   ]
  },
  {
   "cell_type": "code",
   "execution_count": 74,
   "id": "e3a0c9a4-cef1-4f83-836c-6378979d094e",
   "metadata": {},
   "outputs": [
    {
     "name": "stdout",
     "output_type": "stream",
     "text": [
      "The filtered tuple: [(7, 7), (7, 8), (2, 7), (2, 8), (7, 7), (7, 2), (8, 7), (8, 2)]\n"
     ]
    }
   ],
   "source": [
    "#Ans 94\n",
    "test_tuple1 = (7, 2)\n",
    "test_tuple2 = (7, 8)\n",
    "\n",
    "res = [(a, b) for a in test_tuple1 for b in test_tuple2] + [(a, b) for a in test_tuple2 for b in test_tuple1]\n",
    "\n",
    "print(\"The filtered tuple:\", res)\n"
   ]
  },
  {
   "cell_type": "raw",
   "id": "8712838e-f6bf-4725-8853-947e1fe02dc0",
   "metadata": {},
   "source": [
    "Q95. Write a Python program to sort a list of tuples by second item.\n",
    "Input : [('452', 10), ('256', 5), ('100', 20), ('135', 15)]\n",
    "Output : [('256', 5), ('452', 10), ('135', 15), ('100', 20)]"
   ]
  },
  {
   "cell_type": "code",
   "execution_count": 75,
   "id": "61e6715a-e02d-4bf3-bc42-03197b21b92a",
   "metadata": {},
   "outputs": [
    {
     "name": "stdout",
     "output_type": "stream",
     "text": [
      "[('256', 5), ('452', 10), ('135', 15), ('100', 20)]\n"
     ]
    }
   ],
   "source": [
    "\n",
    "#Ans95:\n",
    "def Sort_Tuple(tup):\n",
    "     \n",
    "    lst = len(tup)\n",
    "    for i in range(0, lst):\n",
    "         \n",
    "        for j in range(0, lst-i-1):\n",
    "            if (tup[j][1] > tup[j + 1][1]):\n",
    "                temp = tup[j]\n",
    "                tup[j]= tup[j + 1]\n",
    "                tup[j + 1]= temp\n",
    "    return tup\n",
    " \n",
    "tup =[('452', 10), ('256', 5), ('100', 20), ('135', 15)]\n",
    "       \n",
    "print(Sort_Tuple(tup))"
   ]
  },
  {
   "cell_type": "raw",
   "id": "915617e4-2285-4660-9f1f-3307d03ba7be",
   "metadata": {},
   "source": [
    "Q96. Write a python program to print below pattern.\n",
    "\n",
    "* \n",
    "* * \n",
    "* * * \n",
    "* * * * \n",
    "* * * * * "
   ]
  },
  {
   "cell_type": "code",
   "execution_count": 76,
   "id": "e0519908-3e59-4206-8886-ec84c9919e60",
   "metadata": {},
   "outputs": [
    {
     "name": "stdout",
     "output_type": "stream",
     "text": [
      "* \n",
      "* * \n",
      "* * * \n",
      "* * * * \n",
      "* * * * * \n"
     ]
    }
   ],
   "source": [
    "#Ans96\n",
    "def pypart(n):\n",
    "\t\n",
    "\tfor i in range(0, n):\n",
    "\t\n",
    "\t\tfor j in range(0, i+1):\n",
    "\t\t\n",
    "\t\t\tprint(\"* \",end=\"\")\n",
    "\t\n",
    "\t\tprint(\"\\r\")\n",
    "\n",
    "n = 5\n",
    "pypart(n)"
   ]
  },
  {
   "cell_type": "raw",
   "id": "33a48592-2aaa-4921-87ce-532dd90a2f8e",
   "metadata": {},
   "source": [
    "Q97. Write a python program to print below pattern.\n",
    "\n",
    "    *\n",
    "   **\n",
    "  ***\n",
    " ****\n",
    "*****"
   ]
  },
  {
   "cell_type": "code",
   "execution_count": 77,
   "id": "2866c83c-ed63-480a-89f1-e84b70645243",
   "metadata": {},
   "outputs": [
    {
     "name": "stdout",
     "output_type": "stream",
     "text": [
      "     \n",
      "    *\n",
      "   **\n",
      "  ***\n",
      " ****\n",
      "*****\n"
     ]
    }
   ],
   "source": [
    "#Ans97\n",
    "def inverse_pattern():\n",
    "  n=5;i=0\n",
    "  while(i<=n):\n",
    "    print(\" \" * (n - i) +\"*\" * i)\n",
    "    i+=1\n",
    "\n",
    "inverse_pattern()"
   ]
  },
  {
   "cell_type": "raw",
   "id": "8e4e3779-7267-4207-9bb2-8087f4920637",
   "metadata": {},
   "source": [
    "Q98. Write a python program to print below pattern.\n",
    "\n",
    "    * \n",
    "   * * \n",
    "  * * * \n",
    " * * * * \n",
    "* * * * * "
   ]
  },
  {
   "cell_type": "code",
   "execution_count": 79,
   "id": "f3413ac8-1fa9-4db5-80f3-d98f8997c1fd",
   "metadata": {},
   "outputs": [
    {
     "name": "stdout",
     "output_type": "stream",
     "text": [
      "    * \n",
      "   * * \n",
      "  * * * \n",
      " * * * * \n",
      "* * * * * \n"
     ]
    }
   ],
   "source": [
    "#Ans 98\n",
    "def triangle(n):\n",
    "\t\n",
    "\tk = n - 1\n",
    "\n",
    "\tfor i in range(0, n):\n",
    "\n",
    "\t\tfor j in range(0, k):\n",
    "\t\t\tprint(end=\" \")\n",
    "\t\n",
    "\t\tk = k - 1\n",
    "\t\n",
    "\t\tfor j in range(0, i+1):\n",
    "\n",
    "\t\t\tprint(\"* \", end=\"\")\n",
    "\t\n",
    "\t\tprint(\"\\r\")\n",
    "\n",
    "n = 5\n",
    "triangle(n)"
   ]
  },
  {
   "cell_type": "raw",
   "id": "88a2e537-a966-4eae-9a27-7e7b95451065",
   "metadata": {},
   "source": [
    "Q99. Write a python program to print below pattern.\n",
    "\n",
    "1 \n",
    "1 2 \n",
    "1 2 3 \n",
    "1 2 3 4 \n",
    "1 2 3 4 5"
   ]
  },
  {
   "cell_type": "code",
   "execution_count": 80,
   "id": "c1e49d3c-a6a8-47c5-8012-128b126b1f29",
   "metadata": {},
   "outputs": [
    {
     "name": "stdout",
     "output_type": "stream",
     "text": [
      "1 \n",
      "1 2 \n",
      "1 2 3 \n",
      "1 2 3 4 \n",
      "1 2 3 4 5 \n"
     ]
    }
   ],
   "source": [
    "#Ans 99\n",
    "def numpat(n):\n",
    "\n",
    "\tnum = 1\n",
    "\n",
    "\tfor i in range(0, n):\n",
    "\n",
    "\t\tnum = 1\n",
    "\n",
    "\t\tfor j in range(0, i+1):\n",
    "\n",
    "\t\t\tprint(num, end=\" \")\n",
    "\n",
    "\t\t\tnum = num + 1\n",
    "\n",
    "\t\tprint(\"\\r\")\n",
    "\n",
    "n = 5\n",
    "numpat(n)"
   ]
  },
  {
   "cell_type": "raw",
   "id": "d5b1fe37-6fe2-4c51-89a5-1651a32a767d",
   "metadata": {},
   "source": [
    "Q100. Write a python program to print below pattern.\n",
    "\n",
    "A \n",
    "B B \n",
    "C C C \n",
    "D D D D \n",
    "E E E E E "
   ]
  },
  {
   "cell_type": "code",
   "execution_count": 81,
   "id": "f504f516-7932-4cf3-8906-36e283b72a16",
   "metadata": {},
   "outputs": [
    {
     "name": "stdout",
     "output_type": "stream",
     "text": [
      "A \n",
      "B B \n",
      "C C C \n",
      "D D D D \n",
      "E E E E E \n"
     ]
    }
   ],
   "source": [
    "#Ans100\n",
    "def alphapat(n):\n",
    "\n",
    "\tnum = 65\n",
    "\n",
    "\tfor i in range(0, n):\n",
    "\t\n",
    "\t\tfor j in range(0, i+1):\n",
    "\n",
    "\t\t\tch = chr(num)\n",
    "\t\t\n",
    "\t\t\tprint(ch, end=\" \")\n",
    "\t\n",
    "\t\tnum = num + 1\n",
    "\t\n",
    "\t\tprint(\"\\r\")\n",
    "\n",
    "n = 5\n",
    "alphapat(n)"
   ]
  },
  {
   "cell_type": "code",
   "execution_count": null,
   "id": "700d1219-5385-4491-91e6-4add07a0e1ba",
   "metadata": {},
   "outputs": [],
   "source": []
  }
 ],
 "metadata": {
  "kernelspec": {
   "display_name": "Python 3 (ipykernel)",
   "language": "python",
   "name": "python3"
  },
  "language_info": {
   "codemirror_mode": {
    "name": "ipython",
    "version": 3
   },
   "file_extension": ".py",
   "mimetype": "text/x-python",
   "name": "python",
   "nbconvert_exporter": "python",
   "pygments_lexer": "ipython3",
   "version": "3.10.6"
  }
 },
 "nbformat": 4,
 "nbformat_minor": 5
}
