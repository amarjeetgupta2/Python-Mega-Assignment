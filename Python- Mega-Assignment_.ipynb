{
 "cells": [
  {
   "cell_type": "markdown",
   "id": "0e4ead29-234d-4831-a3d5-6cdd07e93def",
   "metadata": {},
   "source": [
    "Q1. Why do we call Python as a general purpose and high-level programming language? \n",
    "\n",
    "Ans1:Python is called general purpose because it can used to design and develop a wide variety of applications, \n",
    "across multiple domain.\n",
    "High-level programming language means it's more user-friendly. \n",
    "Coding in Python is like writing a story in English."
   ]
  },
  {
   "cell_type": "markdown",
   "id": "e3def282-1b81-429a-a7b7-96c64eca3205",
   "metadata": {},
   "source": [
    "Q2. Why is Python called a dynamically typed language? \n",
    "\n",
    "Ans2. Dynamically typed language means that variables are checked against types only when the program is executing.\n",
    "We don't need to declare the variable type, the interpreter automatically interprets it.\n",
    "\n"
   ]
  },
  {
   "cell_type": "markdown",
   "id": "fb69dc39-4551-405d-b2c0-d66694de8f9c",
   "metadata": {},
   "source": [
    "Q3. List some pros and cons of Python programming language?\n",
    "\n",
    "Ans3.\n",
    "Pros:\n",
    "\n",
    "Easy to use\n",
    "Easy to integrate\n",
    "Multi-paradigm approach\n",
    "High library support\n",
    "\n",
    "Cons:\n",
    "\n",
    "Slow speed of execution compared to C,C++\n",
    "Absence from mobile computing and browsers"
   ]
  },
  {
   "cell_type": "markdown",
   "id": "88d16415-afe8-4472-9480-7a63aa3c2e0e",
   "metadata": {},
   "source": [
    "Q4. In what all domains can we use Python?\n",
    "\n",
    "Ans4.\n",
    "\n",
    "Graphic design, image processing applications, Games, and Scientific/ computational Applications\n",
    "Web frameworks and applications\n",
    "Database Access\n",
    "Language Development\n",
    "Prototyping\n",
    "Software Development\n",
    "Data Science and Machine Learning\n",
    "Scripting"
   ]
  },
  {
   "cell_type": "markdown",
   "id": "f7a3bb5c-c612-4c1b-b06d-459a60322be7",
   "metadata": {},
   "source": [
    "Q5. What are variable and how can we declare them?\n",
    "\n",
    "Ans5. \n",
    "A variable is a symbolic name that is a reference or pointer to an object. \n",
    "Once an object is assigned to a variable, you can refer to the object by that name."
   ]
  },
  {
   "cell_type": "markdown",
   "id": "7a153fa7-be80-4c78-bbf1-91d7345c4bec",
   "metadata": {},
   "source": [
    "var = 17"
   ]
  },
  {
   "cell_type": "markdown",
   "id": "a3232740-00cf-455f-a89d-5718c16cb491",
   "metadata": {},
   "source": [
    "Q6. How can we take an input from the user in Python?\n",
    "\n",
    "Ans6. By using input() function."
   ]
  },
  {
   "cell_type": "markdown",
   "id": "7b5c65d9-7b4e-45dd-a3df-e5574bec2a79",
   "metadata": {},
   "source": [
    "Q7. What is the default datatype of the value that has been taken as an input using input() function? \n",
    "Ans7. string"
   ]
  },
  {
   "cell_type": "markdown",
   "id": "d45b2303-2491-4573-8ae4-9f0db99d2481",
   "metadata": {},
   "source": [
    "Q8. What is type casting?\n",
    "\n",
    "Ans8. \n",
    "Type casting means changing the datatype of the variable. \n",
    "We can only type casting the datatype having higher bit value to the lower bit value."
   ]
  },
  {
   "cell_type": "markdown",
   "id": "5e8f666e-45a8-4e64-9102-9329d1cee561",
   "metadata": {},
   "source": [
    "Q9. Can we take more than one input from the user using single input() function? If yes, how? If no, why?\n",
    "\n",
    "Ans9. Yes.\n"
   ]
  },
  {
   "cell_type": "markdown",
   "id": "fc0e6ee1-9227-424c-b7cd-0b511c5da02f",
   "metadata": {},
   "source": []
  },
  {
   "cell_type": "markdown",
   "id": "2cf19342-1fe9-4f39-8128-d04a101b4b7a",
   "metadata": {},
   "source": [
    "x, y, z = input(\"Enter three values: \").split(\",\")\n",
    "print(\"Total number of students: \", x)\n",
    "print(\"Number of boys is : \", y)\n",
    "print(\"Number of girls is : \", z)\n",
    "print()"
   ]
  },
  {
   "cell_type": "markdown",
   "id": "baec280c-d7b6-478a-b4dc-75d2d22499b1",
   "metadata": {},
   "source": [
    "# x = [int(x)Q11. Can we use keywords as a variable? Support your answer with reason.\n",
    "\n",
    "Ans11. Yes we can but we shoudn't as it will override the properties of the keyword. for x in input(\"Enter multiple value: \").split(\",\")]\n",
    "# print(\"Number of list is: \", x) "
   ]
  },
  {
   "cell_type": "markdown",
   "id": "b1143ced-6b36-4400-8244-5d209e94e867",
   "metadata": {},
   "source": [
    "Q10. What are keywords?\n",
    "\n",
    "Ans10. \n",
    "Keywords in Python are reserved words that can not be used as a variable name,\n",
    "function name, or any other identifier.\n"
   ]
  },
  {
   "cell_type": "markdown",
   "id": "4a28414c-c7ab-469f-8b78-20eb99ec2fac",
   "metadata": {},
   "source": [
    "Q11. Can we use keywords as a variable? Support your answer with reason.\n",
    "\n",
    "Ans11. Yes we can but we shoudn't as it will override the properties of the keyword."
   ]
  },
  {
   "cell_type": "markdown",
   "id": "e7cf81e2-f97f-4fd0-a9ec-86475f0d3e8f",
   "metadata": {},
   "source": [
    "Q12. What is indentation? What's the use of indentaion in Python?\n",
    "\n",
    "Ans12. Indentation is the whitespace used in Python. Indentation is used to create block of statement."
   ]
  },
  {
   "cell_type": "markdown",
   "id": "b7eb9306-1d6f-40b8-ad53-125636abe792",
   "metadata": {},
   "source": [
    "Q13. How can we throw some output in Python?\n",
    "\n",
    "Ans13. Using print() function."
   ]
  },
  {
   "cell_type": "markdown",
   "id": "7801e773-1c42-48b5-9179-3fb279681e3f",
   "metadata": {},
   "source": [
    "Q14. What are operators in Python?\n",
    "\n",
    "Ans14. Symbols or keywords used to perform certain operations on values or variable are known as operators. \n",
    "There are different types of operators like"
   ]
  },
  {
   "cell_type": "markdown",
   "id": "e994b872-0dc8-4ec1-ae8f-130ae5c8596a",
   "metadata": {},
   "source": [
    "# Arithmetic operators\n",
    "# Comparison Operators\n",
    "# Logical Operators\n",
    "# Bitwise Operators\n",
    "# Assignment Operators"
   ]
  },
  {
   "cell_type": "markdown",
   "id": "bea2d352-e613-4291-aadf-c1cbc3437c28",
   "metadata": {},
   "source": [
    "Q15. What is difference between / and // operators?\n",
    "\n",
    "Ans15. / is used for float division and // is used of floor (integer) division."
   ]
  },
  {
   "cell_type": "markdown",
   "id": "0675eb56-9512-4920-8821-3abf49a1fa42",
   "metadata": {},
   "source": [
    "Q16. Write a code that gives following as an output.\n",
    "\n",
    "iNeuroniNeuroniNeuroniNeuron\n"
   ]
  },
  {
   "cell_type": "markdown",
   "id": "26751b89-be09-4924-a86c-273774ea0ca4",
   "metadata": {},
   "source": [
    "# def print_ineuron_five_times():\n",
    "#   for i in range(5):\n",
    "#     print(\"iNeuron\")\n",
    "\n",
    "# print_ineuron_five_times()\n"
   ]
  },
  {
   "cell_type": "markdown",
   "id": "0d8f1633-1689-448b-9da9-d9695913db75",
   "metadata": {},
   "source": [
    "Q17. Write a code to take a number as an input from the user and check if the number is odd or even. \n"
   ]
  },
  {
   "cell_type": "markdown",
   "id": "e6b6fff8-6270-4c3b-8845-6e5caaadc71d",
   "metadata": {},
   "source": [
    "# Ans17:\n",
    "\n",
    "# num = float(input(\"Enter a number: \"))\n",
    "# if num%2 == 0:\n",
    "#   print(f\"{num} is even\")\n",
    "# else:\n",
    "#   print(f\"{num} is odd\")\n"
   ]
  },
  {
   "cell_type": "markdown",
   "id": "ea9e963e-5748-4d55-960f-5ec7ec2ea443",
   "metadata": {},
   "source": [
    "Q18. What are boolean operator?\n",
    "\n",
    "Ans18:\n",
    "\n",
    "    True , False , not , and , or are the only built-in Python Boolean operators.\n",
    "\n"
   ]
  },
  {
   "cell_type": "markdown",
   "id": "e52748d7-c119-4851-95e3-7718864945ef",
   "metadata": {},
   "source": [
    "Q19. What will the output of the following?\n",
    "1 or 0\n",
    "\n",
    "0 and 0\n",
    "\n",
    "True and False and True\n",
    "\n",
    "1 or 0 or 0"
   ]
  },
  {
   "cell_type": "markdown",
   "id": "ffe5fa65-bd40-4105-ad95-76d3c9ece6fd",
   "metadata": {},
   "source": [
    "Ans.19 Output of the following code will be\n",
    "1 or 0 -> 1\n",
    "0 and 0 -> 0\n",
    "True and False and True -> False\n",
    "1 or 0 or 0 -> 1"
   ]
  },
  {
   "cell_type": "markdown",
   "id": "5a99f912-0c93-4fc1-ac7b-1574f13f802e",
   "metadata": {},
   "source": [
    "Q20. What are conditional statements in Python?\n",
    "\n",
    "Ans20:\n",
    "    In large projects we have to control the flow of execution of our program and \n",
    "    we want to execute some set of statements only if the given condition is satisfied,\n",
    "    and a different set of statements when it’s not satisfied.\n"
   ]
  },
  {
   "cell_type": "markdown",
   "id": "9240e5c7-a625-4365-a795-7a5187c4d70f",
   "metadata": {},
   "source": [
    "Q21. What is use of 'if', 'elif' and 'else' keywords?\n",
    "\n",
    "Ans21:\n",
    "    if is the first condition check for the condition.\n",
    "    if \"if\" is False then elif's condition is checked.\n",
    "    else is checked when all the upper condition fails."
   ]
  },
  {
   "cell_type": "markdown",
   "id": "567b4700-eff7-4d1c-879e-62fb51dc7534",
   "metadata": {},
   "source": [
    "Q22. Write a code to take the age of person as an input and if age >= 18 display \"I can vote\". \n",
    "     If age is < 18 display \"I can't vote\".\n"
   ]
  },
  {
   "cell_type": "markdown",
   "id": "ea9a519f-8df0-467a-bb9e-f0e1d4a43fc7",
   "metadata": {},
   "source": [
    "#-------------Ans22-----------------\n",
    "# age = int(input(\"Enter you age: \"))\n",
    "# if age >= 18:\n",
    "#     print(\"I can vote\")\n",
    "# else:\n",
    "#     print(\"I can't vote\") "
   ]
  },
  {
   "cell_type": "markdown",
   "id": "1529f651-4659-425d-af75-6b4c0e0951f9",
   "metadata": {},
   "source": [
    "Q23. Write a code that displays the sum of all the even numbers from the given list.\n",
    "numbers = [12, 75, 150, 180, 145, 525, 50]\n"
   ]
  },
  {
   "cell_type": "markdown",
   "id": "fdcf0ee6-1d26-4899-869a-225270f32e37",
   "metadata": {},
   "source": [
    "#Ans 23: \n",
    "numbers = [12, 75, 150, 180, 145, 525, 50]\n",
    "add = 0\n",
    "for num in numbers:\n",
    "  if num%2 == 0:\n",
    "    add = add+num\n",
    "  else:\n",
    "    continue\n",
    "print(add) "
   ]
  },
  {
   "cell_type": "markdown",
   "id": "5483991d-272d-484a-9375-103db78b5666",
   "metadata": {},
   "source": [
    "Q24. Write a code to take 3 numbers as an input from the user and display the greatest no as output. "
   ]
  },
  {
   "cell_type": "markdown",
   "id": "0646d7c9-b563-44c2-8372-79e51813cc0a",
   "metadata": {},
   "source": [
    "#Ans 24\n",
    "x, y, z = input(\"Enter 3 numbers seprated by comma: \").split(\",\")\n",
    "if int(x) > int(y) and int(x) > int(z):\n",
    "  print(f\"{x} is greatest\")\n",
    "elif int(y) > int(z):\n",
    "  print(f\"{y} is greatest\")\n",
    "else:\n",
    "  print(f\"{z} is greatest\")"
   ]
  },
  {
   "cell_type": "markdown",
   "id": "eb21b66c-349e-4879-a1f9-d97e6ec6dd2d",
   "metadata": {},
   "source": [
    "Q25. Write a program to display only those numbers from a list that satisfy the following conditions\n",
    "\n",
    "The number must be divisible by five\n",
    "\n",
    "If the number is greater than 150, then skip it and move to the next number\n",
    "\n",
    "If the number is greater than 500, then stop the loop\n",
    "\n",
    "numbers = [12, 75, 150, 180, 145, 525, 50]"
   ]
  },
  {
   "cell_type": "markdown",
   "id": "2865a1c8-edc7-40bd-a955-949618722552",
   "metadata": {},
   "source": [
    "#Ans 25\n",
    "numbers = [12, 75, 150, 180, 145, 525, 50]\n",
    "lst = []\n",
    "for num in numbers:\n",
    "  if num > 150:\n",
    "    if num > 500:\n",
    "      break\n",
    "  elif num%5==0:\n",
    "    lst.append(num) \n",
    "\n",
    "print(lst)"
   ]
  },
  {
   "cell_type": "markdown",
   "id": "a87e3b2a-63cf-444f-9466-988044208fae",
   "metadata": {},
   "source": [
    "Q26. What is a string? How can we declare string in Python?\n",
    "\n",
    "Ans26. In Python, Strings are arrays of bytes representing Unicode characters."
   ]
  },
  {
   "cell_type": "markdown",
   "id": "04f14f59-7b37-4aa0-8648-fcc1d0445a2f",
   "metadata": {},
   "source": [
    "Q27. How can we access the string using its index?\n",
    "\n",
    "Ans27. \n",
    "    Sqaure brackets can used to access the elements of the string."
   ]
  },
  {
   "cell_type": "markdown",
   "id": "082d5929-1125-4466-b75a-700f3e210482",
   "metadata": {},
   "source": [
    "Q28. Write a code to get the desired output of the following\n",
    "\n",
    "string = \"Big Data iNeuron\"\n",
    "desired_output = \"iNeuron\""
   ]
  },
  {
   "cell_type": "markdown",
   "id": "bcc323f4-bd4a-4c0a-8640-0bdd72a269a0",
   "metadata": {},
   "source": [
    "#Ans28.\n",
    "string[9:16]"
   ]
  },
  {
   "cell_type": "markdown",
   "id": "d77d22b8-5fd0-4cdd-8671-c7d5af1a0fcf",
   "metadata": {},
   "source": [
    "Q29. Write a code to get the desired output of the following\n",
    "string = \"Big Data iNeuron\"\n",
    "desired_output = \"norueNi\""
   ]
  },
  {
   "cell_type": "markdown",
   "id": "5e265b89-fbc8-42f2-9afb-2e2948b4ed88",
   "metadata": {},
   "source": [
    "#Ans 29\n",
    "string[15:8:-1]"
   ]
  },
  {
   "cell_type": "markdown",
   "id": "3487cc51-d64b-4b4d-b2b4-ef5d2e69439d",
   "metadata": {},
   "source": [
    "Q30. Resverse the string given in the above question.\n"
   ]
  },
  {
   "cell_type": "markdown",
   "id": "03d1ee35-d74c-4a4e-a992-8f8017db0534",
   "metadata": {},
   "source": [
    "#Ans 30\n",
    "string[::-1]"
   ]
  },
  {
   "cell_type": "markdown",
   "id": "b15078c6-2e8b-43c5-bc8c-8c69d6b48aeb",
   "metadata": {},
   "source": [
    "Q31. How can you delete entire string at once?\n",
    "\n",
    "Ans31. We can delete the entire string at once by using del keyword.\n",
    "str1 = \"Hello\"\n",
    "del(str1)"
   ]
  },
  {
   "cell_type": "markdown",
   "id": "89dcac6b-82ef-43bf-8f0f-4b83056669e7",
   "metadata": {},
   "source": [
    "Q32. What is escape sequence?\n",
    "\n",
    "Ans32. The \"backslash ()\" character as an escape character. \n",
    "In other words, it has a special meaning when we use it inside the strings. \n",
    "As the name suggests, the escape character escapes the characters in a string for a brief moment \n",
    "to introduce unique inclusion."
   ]
  },
  {
   "cell_type": "markdown",
   "id": "4e1e9754-ea63-4569-ab21-48f7d4afc665",
   "metadata": {},
   "source": [
    "Q33. How can you print the below string?\n",
    "\n",
    "'iNeuron's Big Data Course'"
   ]
  },
  {
   "cell_type": "markdown",
   "id": "b8bee3c7-23cc-4be8-a2df-22b690c7c7f1",
   "metadata": {},
   "source": [
    "#Ans33. 'iNeuron's Big Data Course'"
   ]
  },
  {
   "cell_type": "markdown",
   "id": "1c16db24-596b-4304-a98d-cfa3755ac887",
   "metadata": {},
   "source": [
    "Q34. What is a list in Python?\n",
    "\n",
    "Ans34. Python list are dynamically sized array, declared in languages like C++ and Java. \n",
    "       A list is a collection of things, enclosed in [ ] and separated by commas."
   ]
  },
  {
   "cell_type": "markdown",
   "id": "ff0050c3-5755-4bd9-811f-6fbf634ff273",
   "metadata": {},
   "source": [
    "Q35. How can you create a list in Python?\n",
    "\n",
    "Ans35. We can create a list by opening and closing the square brackets."
   ]
  },
  {
   "cell_type": "markdown",
   "id": "39d2124b-726b-4a5f-bd13-1ac4a1615000",
   "metadata": {},
   "source": [
    "Q36. How can we access the elements in a list?\n",
    "\n",
    "Ans36. We can access the elements in a list by indexing."
   ]
  },
  {
   "cell_type": "markdown",
   "id": "630c278f-7a94-45c0-b9c0-61e39dee88ab",
   "metadata": {},
   "source": [
    "Q37. Write a code to access the word \"iNeuron\" from the given list.\n",
    "\n",
    "lst = [1,2,3,\"Hi\",[45,54, \"iNeuron\"], \"Big Data\"]\n",
    "\n",
    "Ans37\n",
    "\n",
    "lst = [1,2,3,\"Hi\",[45,54, \"iNeuron\"], \"Big Data\"]\n",
    "lst[4][2]"
   ]
  },
  {
   "cell_type": "markdown",
   "id": "0f3e2104-1c94-479c-aa1d-02be01e0fab0",
   "metadata": {},
   "source": [
    "Q38. Take a list as an input from the user and find the length of the list.\n"
   ]
  },
  {
   "cell_type": "markdown",
   "id": "c94f2888-5c5c-4809-a4af-a745f6f74dd5",
   "metadata": {},
   "source": [
    "#Ans 38:\n",
    "n = input(\"Enter number of elements seprated by space: \").split(\" \")\n",
    "print(len(n))"
   ]
  },
  {
   "cell_type": "markdown",
   "id": "54930c2d-da46-4aba-a5b1-e4a8130a8a86",
   "metadata": {},
   "source": [
    "Q39. Add the word \"Big\" in the 3rd index of the given list.\n",
    "lst = [\"Welcome\", \"to\", \"Data\", \"course\"]\n"
   ]
  },
  {
   "cell_type": "markdown",
   "id": "3419a18e-28ce-4f7e-beae-04ccbb825745",
   "metadata": {},
   "source": [
    "#Ans 38:\n",
    "lst = [\"Welcome\", \"to\", \"Data\", \"course\"]\n",
    "lst.insert(2, \"Big\")"
   ]
  },
  {
   "cell_type": "markdown",
   "id": "55e6ed10-b991-4d4d-bc7d-bba98182a7a1",
   "metadata": {},
   "source": [
    "Q40. What is a tuple? How is it different from list?\n",
    "\n",
    "Ans40. \n",
    "Tuple is a collection of Python objects much like a list. \n",
    "The sequence of values stored in a tuple can be of any type, and they are indexed by integers. \n",
    "Tuples are immutable where as list are mutable. \n",
    "We can also faster through the tuples than the list."
   ]
  },
  {
   "cell_type": "markdown",
   "id": "255f896e-e200-40cc-970c-7cc8e29eb291",
   "metadata": {},
   "source": [
    "Q41. How can you create a tuple in Python?\n",
    "\n",
    "Ans41. We can create tuple using round brackets ().\n"
   ]
  },
  {
   "cell_type": "markdown",
   "id": "250d655e-594b-4c21-9e4c-25aa08da1f7d",
   "metadata": {},
   "source": [
    "Q42. Create a tuple and try to add your name in the tuple. Are you able to do it? Support your answer with reason.\n",
    "\n",
    "Ans42. No, I can't as tuples are immutable. The work around is it typecast tuple to list and then append."
   ]
  },
  {
   "cell_type": "markdown",
   "id": "e647b44c-2465-444b-8e4b-0cae5a6b1a0b",
   "metadata": {},
   "source": [
    "tup = ()\n",
    "tup = list(tup)\n",
    "tup.append(\"Amarjeet\")\n",
    "tup = tuple(tup)\n",
    "tup"
   ]
  },
  {
   "cell_type": "markdown",
   "id": "ed085135-c2ac-4f98-b452-35f456a179c6",
   "metadata": {},
   "source": [
    "Q43. Can two tuple be appended. If yes, write a code for it. If not, why?\n",
    "\n",
    "Ans43.\n",
    "Yes, we can."
   ]
  },
  {
   "cell_type": "markdown",
   "id": "2395ca7b-101b-4a97-8471-d3d60d6a1b98",
   "metadata": {},
   "source": [
    "tup1 = (\"Amarjeet \")\n",
    "tup2 = (\"Gupta\")\n",
    "tup1+tup2"
   ]
  },
  {
   "cell_type": "markdown",
   "id": "1e4aa6a3-e27f-4f73-bd70-f3f8f39f6c74",
   "metadata": {},
   "source": [
    "Q44. Take a tuple as an input and print the count of elements in it.\n",
    "\n",
    "Ans 44:"
   ]
  },
  {
   "cell_type": "markdown",
   "id": "591f4868-913d-44b3-a091-a9173618d26b",
   "metadata": {},
   "source": [
    "# x = input(\"Enter the values separeted by space: \").split(\" \")\n",
    "# x = tuple(x)\n",
    "# print(le\n",
    "n(x))"
   ]
  },
  {
   "cell_type": "markdown",
   "id": "9aa7fd25-8739-4f57-a6aa-b6aaac220c49",
   "metadata": {},
   "source": [
    "Q45. What are sets in Python?\n",
    "\n",
    "Ans45. \n",
    "A set is an unordered collection of data types that is iterable, mutable and has no duplicate elements. \n",
    "The order of elements in a set is undefined though it may consist of various elements."
   ]
  },
  {
   "cell_type": "markdown",
   "id": "2490b9a2-945b-46a6-b9a2-8e6d1b1f5596",
   "metadata": {},
   "source": [
    "Q46. How can you create a set?\n",
    "\n",
    "Ans46. \n",
    "We can create set using curly brackets {}. \n",
    "Keep in mind empty {} will result in dictionary hence there must be some value in the brackets."
   ]
  },
  {
   "cell_type": "markdown",
   "id": "b517d9a8-20e1-4443-bce4-3502346b2184",
   "metadata": {},
   "source": [
    "Q47. Create a set and add \"iNeuron\" in your set."
   ]
  },
  {
   "cell_type": "markdown",
   "id": "c109f78f-e2af-4bc9-99c3-9fdce82bf4d4",
   "metadata": {},
   "source": [
    "#Ans47:\n",
    "set1 = {\"iNeuron\"}\n",
    "set1"
   ]
  },
  {
   "cell_type": "markdown",
   "id": "3a3aaf8d-a570-414b-96a4-775ad16fa3ff",
   "metadata": {},
   "source": [
    "Q48. Try to add multiple values using add() function.\n"
   ]
  },
  {
   "cell_type": "markdown",
   "id": "6e88898f-db03-41fe-aa5c-e581c69de966",
   "metadata": {},
   "source": [
    "#Ans48:\n",
    "set1.add(\"Big\")\n",
    "set1.add(\"Data\")\n",
    "set1"
   ]
  },
  {
   "cell_type": "markdown",
   "id": "54fbdbf8-cbce-41ed-8438-824e78b15614",
   "metadata": {},
   "source": [
    "Q49. How is update() different from add()?\n",
    "\n",
    "Ans49. We can add more than one element in a single go using update(), but using add() it's not possible."
   ]
  },
  {
   "cell_type": "markdown",
   "id": "150b6c2b-754f-467d-8f2f-f34243ed0029",
   "metadata": {},
   "source": [
    "Q50. What is clear() in sets?\n",
    "\n",
    "Ans50. To remove all the elements from the set, clear() function is used."
   ]
  },
  {
   "cell_type": "markdown",
   "id": "b6b425db-d4aa-43f9-96da-a1f04ff99c61",
   "metadata": {},
   "source": [
    "Q51. What is frozen set?\n",
    "\n",
    "Ans51. \n",
    "Frozen sets in Python are immutable objects that only support methods and operators that produce a result\n",
    "without affecting the frozen set or sets to which they are applied.\n",
    "While elements of a set can be modified at any time, elements of the frozen set remain the same after creation."
   ]
  },
  {
   "cell_type": "markdown",
   "id": "4852554c-f291-4c86-846b-070e896f17c8",
   "metadata": {},
   "source": [
    "Q52. How is frozen set different from set?\n",
    "\n",
    "Ans52.\n",
    "\n",
    "Frozen sets are immutable where as sets are mutable.\n",
    "Sets can't be used as keys in dictionary where as frozen sets can be used."
   ]
  },
  {
   "cell_type": "markdown",
   "id": "3d3bd3a8-ce17-4bc0-ae80-bf948c79bd1a",
   "metadata": {},
   "source": [
    "Q53. What is union() in sets? Explain via code.\n",
    "\n",
    "Ans53. Python set Union() Method returns a new set which contains all the items from the original set."
   ]
  },
  {
   "cell_type": "markdown",
   "id": "5751e3af-7068-4e5f-a04b-d63781ff26fc",
   "metadata": {},
   "source": [
    "set1 = {2, 4, 5, 6}\n",
    "set2 = {4, 6, 7, 8}\n",
    "set3 = {7, 8, 9, 10}\n",
    "\n",
    "print(\"set1 U set2 : \", set1 | set2)\n",
    "\n",
    "print(\"set1 U set2 U set3 :\", set1 |set2 | set3)"
   ]
  },
  {
   "cell_type": "markdown",
   "id": "4906424c-f0ce-486e-847e-74f2bbd27fc1",
   "metadata": {},
   "source": [
    "Q54. What is intersection() in sets? Explain via code.\n",
    "\n",
    "Ans54. Python set intersection() method returns a new set with an element that is common to all set"
   ]
  },
  {
   "cell_type": "markdown",
   "id": "76e61fce-9412-4f59-b896-2a787c147fb8",
   "metadata": {},
   "source": [
    "set1 = {2, 4, 5, 6}\n",
    "set2 = {4, 6, 7, 8}\n",
    "set3 = {4, 6, 8}\n",
    "\n",
    "print(\"set1 intersection set2 : \", set1.intersection(set2))\n",
    "\n",
    "print(\"set1 intersection set2 intersection set3 :\", set1.intersection(set2, set3))"
   ]
  },
  {
   "cell_type": "markdown",
   "id": "6d65fa0a-b3a2-4327-9b9d-f081d42d2397",
   "metadata": {},
   "source": [
    "Q55. What is dictionary ibn Python?\n",
    "\n",
    "Ans55. \n",
    "Dictionary in Python is a collection of keys values, used to store data values like a \n",
    "map, which, unlike other \n",
    "data types which hold only a single value as an element."
   ]
  },
  {
   "cell_type": "markdown",
   "id": "add2b6db-cce8-41ba-92b9-0a46e3c9e70a",
   "metadata": {},
   "source": [
    "Q56. How is dictionary different from all other data structures.\n",
    "\n",
    "Ans56. Dictionary is having key and value pair where as all other data structures have only values in them."
   ]
  },
  {
   "cell_type": "markdown",
   "id": "6441da21-7164-4c4a-a724-04bd5be26be6",
   "metadata": {},
   "source": [
    "Q57. How can we delare a dictionary in Python?\n",
    "\n",
    "Ans57. We can create dictionary using curly brackets {}."
   ]
  },
  {
   "cell_type": "markdown",
   "id": "4de26597-af4e-48e3-991b-141e45d763fb",
   "metadata": {},
   "source": [
    "Q58. What will the output of the following?"
   ]
  },
  {
   "cell_type": "markdown",
   "id": "75173786-1d94-45af-8aff-b4ea29c84ab9",
   "metadata": {},
   "source": [
    "#Ans58\n",
    "#dict\n",
    "var = {}\n",
    "print(type(var))\n"
   ]
  },
  {
   "cell_type": "markdown",
   "id": "26e8168d-24bf-43bf-8c13-75bd4a8ac615",
   "metadata": {},
   "source": [
    "Q59. How can we add an element in a dictionary?\n"
   ]
  },
  {
   "cell_type": "markdown",
   "id": "49a6fa91-a61b-4df9-af8b-30a31f8d9c0d",
   "metadata": {},
   "source": [
    "Dict = {}\n",
    "Dict[0] = \"Hello\"\n",
    "Dict[1] = [\"Data Science\", \"Big Data\"]"
   ]
  },
  {
   "cell_type": "markdown",
   "id": "defc1fb8-e50e-4d84-9c4f-a624f626ee84",
   "metadata": {},
   "source": [
    "Q60. Create a dictionary and access all the values in that dictionary.\n"
   ]
  },
  {
   "cell_type": "markdown",
   "id": "372ab745-aac2-4b97-851a-6feb5cb9eb0a",
   "metadata": {},
   "source": [
    "#Ans60:\n",
    "Dict = {\"Name\": \"Amarjeet\", \"Experience\": 3, \"Organisation\":\"RateGain\"}\n",
    "for i, j in Dict.items():\n",
    "  print(f\"Key is {i} and value is {j}\")"
   ]
  },
  {
   "cell_type": "markdown",
   "id": "0ac8a908-69b5-4f73-b3ff-2df0ac424bd5",
   "metadata": {},
   "source": [
    "Q61. Create a nested dictionary and access all the element in the inner dictionary.\n"
   ]
  },
  {
   "cell_type": "markdown",
   "id": "1571dacb-5f7f-43f3-8219-95be526efa1e",
   "metadata": {},
   "source": [
    "#Ans 62\n",
    "Dict = {\"Name\": {\"f_name\":\"Amarjeet\", \"l_name\":\"Gupta\"}, \"Experience\": 3, \"Organisation\":\"RateGain\"}\n",
    "for i, j in Dict[\"Name\"].items():\n",
    "  print(f\"Key is {i} and value is {j}\")"
   ]
  },
  {
   "cell_type": "markdown",
   "id": "fbdbe2aa-bbe9-4765-a5b2-22b45a2f7758",
   "metadata": {},
   "source": [
    "Q62. What is the use of get() function?\n",
    "\n",
    "Ans62. get() is also to access the elements in dictionary.\n"
   ]
  },
  {
   "cell_type": "markdown",
   "id": "809fc9d0-0b15-4789-9ae6-be8e66368f76",
   "metadata": {},
   "source": [
    "Dict = {\"Name\": \"Amarjeet\", \"Experience\": 3, \"Organisation\":\"RateGain\"}\n",
    "print(Dict.get(\"Name\"))"
   ]
  },
  {
   "cell_type": "markdown",
   "id": "6ad7c50d-2204-4bf5-8bf9-e0ff40527615",
   "metadata": {},
   "source": [
    "Q63. What is the use of items() function?\n",
    "\n",
    "Ans63. items() method is used to return the list with all dictionary keys with values.\n"
   ]
  },
  {
   "cell_type": "markdown",
   "id": "0d11120f-33ae-461f-bcb2-a54785620975",
   "metadata": {},
   "source": [
    "Dict = {\"Name\": \"Amarjeet\", \"Experience\": 3, \"Organisation\":\"RateGain\"}\n",
    "print(Dict.items())"
   ]
  },
  {
   "cell_type": "markdown",
   "id": "27aa3195-0d2c-4a6d-992b-23e396dedaa0",
   "metadata": {},
   "source": [
    "Q64. What is the use of pop() function?"
   ]
  },
  {
   "cell_type": "markdown",
   "id": "8172e319-5ac0-4070-a8b8-c4f41c43b9e3",
   "metadata": {},
   "source": [
    "#Ans64\n",
    "Dict = {\"Name\": \"Amarjeet\", \"Experience\": 3, \"Organisation\":\"RateGain\"}\n",
    "print(Dict.pop(\"Name\"))\n",
    "print(Dict)"
   ]
  },
  {
   "cell_type": "markdown",
   "id": "b8ccc116-8aff-4f86-8e72-8723ed74d923",
   "metadata": {},
   "source": [
    "Q65. What is the use of popitems() function?\n",
    "\n",
    "Ans65. popitem() method removes the last inserted key-value pair from the dictionary and returns it as a tuple.\n",
    "\n"
   ]
  },
  {
   "cell_type": "markdown",
   "id": "524800b6-e6c4-4f63-9269-ed6152ecb2ec",
   "metadata": {},
   "source": [
    "Dict = {\"Name\": \"Amarjeet\", \"Experience\": 3, \"Organisation\":\"RateGain\"}\n",
    "print(Dict.popitem())\n",
    "print(Dict)"
   ]
  },
  {
   "cell_type": "markdown",
   "id": "91237cf0-5d33-4d5d-bc6e-f43932424c85",
   "metadata": {},
   "source": [
    "Q66. What is the use of keys() function?\n",
    "\n",
    "Ans66. keys() method returns a view object that displays a list of all the keys in the dictionary."
   ]
  },
  {
   "cell_type": "markdown",
   "id": "fcdfb239-0827-4172-84e3-ab4880c37b54",
   "metadata": {},
   "source": [
    "Dict = {\"Name\": \"Amarjeet\", \"Experience\": 3, \"Organisation\":\"RateGain\"}\n",
    "print(Dict.keys())"
   ]
  },
  {
   "cell_type": "markdown",
   "id": "faeb050a-ab28-40d9-a6fa-3b014902a6c7",
   "metadata": {},
   "source": [
    "Q67. What is the use of values() function?\n",
    "\n",
    "Ans67. \n",
    "values() is an inbuilt method in Python programming language that returns a view object.\n",
    "The view object contains the values of the dictionary, as a list."
   ]
  },
  {
   "cell_type": "markdown",
   "id": "4db1c17b-9bbd-4550-aa91-d7593ad07097",
   "metadata": {},
   "source": [
    "Dict = {\"Name\": \"Amarjeet\", \"Experience\": 3, \"Organisation\":\"Gupta\"}\n",
    "print(Dict.values())"
   ]
  },
  {
   "cell_type": "markdown",
   "id": "becbee86-aab0-42b2-b809-5ddf3008816f",
   "metadata": {},
   "source": [
    "Q68. What are loops in Python?\n",
    "\n",
    "Ans68. Loops are used the iterate over a block of statement multiple times."
   ]
  },
  {
   "cell_type": "markdown",
   "id": "9599e06c-534f-439f-b1c0-c061e6bfc847",
   "metadata": {},
   "source": [
    "Q69. How many type of loop are there in Python?\n",
    "\n",
    "Ans69. There is for and while loop in Python"
   ]
  },
  {
   "cell_type": "markdown",
   "id": "d8fbfaff-d895-437b-a84f-a2a1075bdf62",
   "metadata": {},
   "source": [
    "Q70. What is the difference between for and while loops?\n",
    "\n",
    "Ans70. \n",
    "When we know the exact number of iterations, we can use for loop. When we want the to run till a certain condition is true we can use while loop."
   ]
  },
  {
   "cell_type": "markdown",
   "id": "921e0a98-bb4d-4348-860c-ecdccf5e2a45",
   "metadata": {},
   "source": [
    "Q71. What is the use of continue statement?\n",
    "\n",
    "Ans71. \n",
    "Continue Statement skips the execution of the program block from after the continue statement and forces the control to start the next iteration."
   ]
  },
  {
   "cell_type": "markdown",
   "id": "f2f357e8-9fc7-4008-a550-349249147648",
   "metadata": {},
   "source": [
    "Q72. What is the use of break statement?\n",
    "\n",
    "Ans72. \n",
    "break statement in Python is used to bring the\n",
    "control out of the loop when some external condition is triggered.\n",
    "break statement is put inside the loop body"
   ]
  },
  {
   "cell_type": "markdown",
   "id": "f3b24fd2-d2ba-4e2f-82e9-de15ec605d7d",
   "metadata": {},
   "source": [
    "Q73. What is the use of pass statement?\n",
    "\n",
    "Ans73. \n",
    "The pass statement is a null statement. \n",
    "But the difference between pass and comment is that comment is ignored by the interpreter \n",
    "whereas pass is not ignored."
   ]
  },
  {
   "cell_type": "markdown",
   "id": "3bd57e33-1b0f-405c-83f5-bd9828e7df92",
   "metadata": {},
   "source": [
    "Q74. What is the use of range() function?\n",
    "\n",
    "Ans74. \n",
    "range() function returns a sequence of numbers, in a given range. \n",
    "The most common use of it is to iterate sequence on a sequence of numbers"
   ]
  },
  {
   "cell_type": "markdown",
   "id": "7d229e6c-4ce1-4250-ac98-1df37eb1f81c",
   "metadata": {},
   "source": [
    "Q75. How can you loop over a dictionary?\n"
   ]
  },
  {
   "cell_type": "markdown",
   "id": "08780cd3-d559-4cba-a288-feb10268507c",
   "metadata": {},
   "source": [
    "statesAndCapitals = {\n",
    "\t'Gujarat': 'Gandhinagar',\n",
    "\t'Maharashtra': 'Mumbai',\n",
    "\t'Rajasthan': 'Jaipur',\n",
    "\t'Bihar': 'Patna'\n",
    "}\n",
    "\n",
    "for state in statesAndCapitals:\n",
    "\tprint(state)"
   ]
  },
  {
   "cell_type": "markdown",
   "id": "5e07ed63-75c9-4812-9856-0066cf684553",
   "metadata": {},
   "source": []
  },
  {
   "cell_type": "markdown",
   "id": "d3c25b28-1d2e-4897-8201-ccdd6ea52bc6",
   "metadata": {},
   "source": [
    "##-------------------Coding problems--------------------------------##"
   ]
  },
  {
   "cell_type": "markdown",
   "id": "c08238b9-dbd5-404a-8511-eea64b228596",
   "metadata": {},
   "source": [
    "Q76. Write a Python program to find the factorial of a given number.\n"
   ]
  },
  {
   "cell_type": "markdown",
   "id": "8be81afc-2bc2-47cd-b7fe-3df71545bdea",
   "metadata": {},
   "source": [
    "#Ans76-->\n",
    "def factorial(n):\n",
    "  if n < 0:\n",
    "    return 0\n",
    "  elif n == 0 or n == 1:\n",
    "    return 1\n",
    "  else:\n",
    "    fact = 1\n",
    "    while(n>1):\n",
    "      fact *= n\n",
    "      n -= 1\n",
    "    return fact\n",
    "\n",
    "n=6\n",
    "print(f\"Factorial of {n} is {factorial(n)}\")"
   ]
  },
  {
   "cell_type": "markdown",
   "id": "47b25e39-f1a3-463d-bc2e-1fd8997d0f2a",
   "metadata": {},
   "source": [
    "Q77. Write a Python program to calculate the simple interest. \n",
    "     Formula to calculate simple interest is SI = (PRT)/100\n"
   ]
  },
  {
   "cell_type": "markdown",
   "id": "ffa55ef7-a1fa-4d2c-8f0f-b2f3cd755893",
   "metadata": {},
   "source": [
    "#Ans77-->\n",
    "def SI(p,r,t):\n",
    "  si = (p*r*t)/100\n",
    "  print(f\"Simple interest is {si}\")\n",
    "  return si\n",
    "\n",
    "SI(8, 8, 6)"
   ]
  },
  {
   "cell_type": "markdown",
   "id": "5755d309-a5f7-43fd-8133-1f98c8cfea7d",
   "metadata": {},
   "source": [
    "Q78. Write a Python program to calculate the compound interest. \n",
    "     Formula of compound interest is A = P(1+ R/100)^t.\n"
   ]
  },
  {
   "cell_type": "markdown",
   "id": "2da0e132-6e0b-4428-a61b-a591089b08cf",
   "metadata": {},
   "source": [
    "#Ans 78\n",
    "def CI(p, r, t):\n",
    "  amount = p*(1+r/100)**t\n",
    "  ci = amount - p\n",
    "  print(f\"Compound intrest is {ci}\")\n",
    "  return ci\n",
    "\n",
    "CI(10000, 10.25, 5)"
   ]
  },
  {
   "cell_type": "markdown",
   "id": "a7e341da-ee64-4806-b0bd-6d6b1374afdd",
   "metadata": {},
   "source": [
    "Q79. Write a Python program to check if a number is prime or not.\n"
   ]
  },
  {
   "cell_type": "markdown",
   "id": "2aac2f29-fff7-4d5b-a176-4b8df2865ae2",
   "metadata": {},
   "source": [
    "#Ans 79\n",
    "from math import sqrt\n",
    "\n",
    "def is_prime(n):\n",
    "  prime_flag = 0\n",
    "\n",
    "  if(n > 1):\n",
    "    for i in range(2, int(sqrt(n)) + 1):\n",
    "      if (n % i == 0):\n",
    "        prime_flag = 1\n",
    "        break\n",
    "    if (prime_flag == 0):\n",
    "      print(f\"{n} is a prime number.\")\n",
    "    else:\n",
    "      print(f\"{n} is not a prime number.\")\n",
    "  else:\n",
    "    print(f\"{n} is not a prime number.\")\n",
    "\n",
    "is_prime(134)"
   ]
  },
  {
   "cell_type": "markdown",
   "id": "63272611-2112-462f-9029-d8fb3c5adb2e",
   "metadata": {},
   "source": [
    "Q81. Write a Python program to find the n-th Fibonacci Number."
   ]
  },
  {
   "cell_type": "markdown",
   "id": "d32b664c-81fd-4ce6-b669-b0220740a08d",
   "metadata": {},
   "source": [
    "def Fibonacci(n):\n",
    "\tif n<= 0:\n",
    "\t\tprint(\"Incorrect input\")\n",
    "\telif n == 1:\n",
    "\t\treturn 0\n",
    "\telif n == 2:\n",
    "\t\treturn 1\n",
    "\telse:\n",
    "\t\treturn Fibonacci(n-1)+Fibonacci(n-2)\n",
    "\n",
    "print(Fibonacci(7))"
   ]
  },
  {
   "cell_type": "markdown",
   "id": "08019d34-389d-49be-bfcd-a158157a40cf",
   "metadata": {},
   "source": [
    "Q82. Write a Python program to interchange the first and last element in a list."
   ]
  },
  {
   "cell_type": "markdown",
   "id": "70571da6-f50a-48d6-aeeb-b6eec518c1ee",
   "metadata": {},
   "source": [
    "def swap_list(newList):\n",
    "\tsize = len(newList)\n",
    "\ttemp = newList[0]\n",
    "\tnewList[0] = newList[size - 1]\n",
    "\tnewList[size - 1] = temp\n",
    "\t\n",
    "\treturn newList\n",
    "\n",
    "newList = [15, 12, 35, 17, 9, 56, 29]\n",
    "\n",
    "print(swap_list(newList))"
   ]
  },
  {
   "cell_type": "markdown",
   "id": "05ca23df-1d23-402d-b843-d2f648df5b6b",
   "metadata": {},
   "source": [
    "#Second Way"
   ]
  },
  {
   "cell_type": "markdown",
   "id": "80fc3175-eb66-439e-8580-8c6e0c8ca2ff",
   "metadata": {},
   "source": [
    "def swap_list(newList):\n",
    "     \n",
    "    newList[0], newList[-1] = newList[-1], newList[0]\n",
    " \n",
    "    return newList\n",
    "     \n",
    "newList = [15, 12, 35, 17, 9, 56, 29]\n",
    "print(swap_list(newList))"
   ]
  },
  {
   "cell_type": "markdown",
   "id": "788b8986-e454-4c29-a2e7-e037da0a9a93",
   "metadata": {},
   "source": [
    "Q83. Write a Python program to swap two elements in a list."
   ]
  },
  {
   "cell_type": "markdown",
   "id": "d4e1eb0e-29e0-410d-974d-0aff326d3b23",
   "metadata": {},
   "source": [
    "def swapPositions(list, pos1, pos2):\n",
    "\t\n",
    "\tlist[pos1], list[pos2] = list[pos2], list[pos1]\n",
    "\treturn list\n",
    "\n",
    "List = [15, 12, 35, 17, 9, 56, 29]\n",
    "pos1, pos2 = 1, 3\n",
    "\n",
    "print(f\"Original list: {List}\")\n",
    "print(f\"Swapped list: {swapPositions(List, pos1, pos2)}\")"
   ]
  },
  {
   "cell_type": "markdown",
   "id": "734da807-8b94-4190-ab64-1f8756a52c01",
   "metadata": {},
   "source": [
    "Q84. Write a Python program to find N largest element from a list.\n"
   ]
  },
  {
   "cell_type": "markdown",
   "id": "c1513eaa-59a0-4f7d-b2e2-aa4efda0e65e",
   "metadata": {},
   "source": [
    "def n_max_elements(list1, N):\n",
    "\tfinal_list = []\n",
    "\n",
    "\tfor i in range(0, N):\n",
    "\t\tmax1 = 0\n",
    "\t\t\n",
    "\t\tfor j in range(len(list1)):\t\n",
    "\t\t\tif list1[j] > max1:\n",
    "\t\t\t\tmax1 = list1[j];\n",
    "\t\t\t\t\n",
    "\t\tlist1.remove(max1);\n",
    "\t\tfinal_list.append(max1)\n",
    "\t\t\n",
    "\tprint(final_list)\n",
    "\n",
    "list1 = [2, 6, 41, 85, 0, 3, 7, 6, 10]\n",
    "N = 3\n",
    "\n",
    "n_max_elements(list1, N)"
   ]
  },
  {
   "cell_type": "markdown",
   "id": "35cccf99-95eb-4700-8d42-3179698553bb",
   "metadata": {},
   "source": [
    "Q85. Write a Python program to find cumulative sum of a list.\n"
   ]
  },
  {
   "cell_type": "markdown",
   "id": "3814f17d-64e0-4087-833d-9eff438525e8",
   "metadata": {},
   "source": [
    "def cumulative_sum(lists):\n",
    "\tcu_list = []\n",
    "\tlength = len(lists)\n",
    "\tcu_list = [sum(lists[0:x:1]) for x in range(0, length+1)]\n",
    "\treturn cu_list[1:]\n",
    "\n",
    "lists = [10, 20, 30, 40, 50]\n",
    "print(f\"Cumulative sum of the list is {cumulative_sum(lists)}\")"
   ]
  },
  {
   "cell_type": "markdown",
   "id": "84e16f30-354b-4aad-b752-0c353dcc7675",
   "metadata": {},
   "source": [
    "Q86. Write a Python program to check if a string is palindrome or not.\n"
   ]
  },
  {
   "cell_type": "markdown",
   "id": "a3c2dfad-55df-4c1d-8550-7624ca25e2e7",
   "metadata": {},
   "source": [
    "#Ans 86\n",
    "def isPalindrome(s):\n",
    "  if s == s[::-1]:\n",
    "\t  return f\"{s} is palindrome\"\n",
    "  return f\"{s} is not palindrome\"\n",
    "\n",
    "s = \"dad\"\n",
    "isPalindrome(s)\n"
   ]
  },
  {
   "cell_type": "markdown",
   "id": "aed49d61-dd24-4984-a5c4-39104c6c2cd8",
   "metadata": {},
   "source": [
    "def isPalindrome(s):\n",
    "  if s == s[::-1]:\n",
    "\t  return f\"{s} is palindrome\"\n",
    "  return f\"{s} is not palindrome\"\n",
    "\n",
    "s = \"Shaad\"\n",
    "isPalindrome(s)"
   ]
  },
  {
   "cell_type": "markdown",
   "id": "3555b934-f361-4dd7-a461-28e6724a716a",
   "metadata": {},
   "source": [
    "Q87. Write a Python program to remove i'th element from a string.\n"
   ]
  },
  {
   "cell_type": "markdown",
   "id": "b678679e-f516-4246-a5cc-bbd7b9b5a723",
   "metadata": {},
   "source": [
    "#Ans87:\n",
    "def remove_ith_element(i):\n",
    "  str1 = \"Big Data Bootcamp 2.0\"\n",
    "  str2 = \"\"\n",
    "\n",
    "  for n in range(len(str1)):\n",
    "    if n == i:\n",
    "      continue\n",
    "    else:\n",
    "      str2 = str2 + str1[n]\n",
    "\n",
    "  return str2\n",
    "\n",
    "remove_ith_element(5)   "
   ]
  },
  {
   "cell_type": "markdown",
   "id": "8b1e4d24-ccf1-4400-8c8c-cfa44a8b6ba3",
   "metadata": {},
   "source": [
    "Q88. Write a Python program to check if a substring is present in a given string."
   ]
  },
  {
   "cell_type": "markdown",
   "id": "2f7834fd-e146-4ef2-8208-56606d5e3411",
   "metadata": {},
   "source": [
    "#Ans 88\n",
    "def check_substring(s2, s1):\n",
    "\tif (s2.count(s1) > 0):\n",
    "\t\tprint(f'\"{s1}\" is a substring of \"{s2}\"')\n",
    "\telse:\n",
    "\t\tprint(f'\"{s1}\" is not a substring of \"{s2}\"')\n",
    "\n",
    "\n",
    "s2 = \"Welcome to iNeuron Big Data Bootcamp 2.0\"\n",
    "s1 = \"iNeuron\"\n",
    "check_substring(s2, s1)"
   ]
  },
  {
   "cell_type": "markdown",
   "id": "be9cd172-81ec-4e51-9664-bdd8e143e5b3",
   "metadata": {},
   "source": [
    "Q89. Write a Python program to find words which are greater than given length k."
   ]
  },
  {
   "cell_type": "markdown",
   "id": "6ba14d75-1f6f-4d1c-aa84-f75f72e210a2",
   "metadata": {},
   "source": [
    "#Ans89\n",
    "def string_greater_than_k(k, str):\n",
    "\t\n",
    "\tstring = []\n",
    "\n",
    "\ttext = str.split(\" \")\n",
    "\n",
    "\tfor x in text:\n",
    "\n",
    "\t\tif len(x) > k:\n",
    "\n",
    "\t\t\tstring.append(x)\n",
    "\n",
    "\treturn string\n",
    "\n",
    "k = 3\n",
    "str =\"Big Data Bootcamp 2.0\"\n",
    "print(string_greater_than_k(k, str))"
   ]
  },
  {
   "cell_type": "markdown",
   "id": "789ce175-7289-4e30-bd3a-017d766eeb08",
   "metadata": {},
   "source": [
    "Q90. Write a Python program to extract unquire dictionary values.\n"
   ]
  },
  {
   "cell_type": "markdown",
   "id": "187be1bf-6a14-4af6-b8c3-502d6aeffaaa",
   "metadata": {},
   "source": [
    "#Ans90\n",
    "# test_dict = {\n",
    "#     'iNeuron': [5, 6, 7, 8],\n",
    "#     'is': [10, 11, 7, 5],\n",
    "#     'best': [6, 12, 10, 8],\n",
    "#     'for': [1, 2, 5],\n",
    "#     'big data': [2, 7, 12, 9]\n",
    "# }\n",
    "\n",
    "# print(\"The original dictionary is: \" + str(test_dict))\n",
    "\n",
    "# res = list(sorted({ele for val in test_dict.values() for ele in val}))\n",
    "\n",
    "# print(\"The unique values list is: \" + str(res))"
   ]
  },
  {
   "cell_type": "markdown",
   "id": "743b65f4-964a-4f8f-844c-ac2e8bdb8d5b",
   "metadata": {},
   "source": [
    "Q91. Write a Python program to merge two dictionary.\n"
   ]
  },
  {
   "cell_type": "markdown",
   "id": "78ae4a84-720b-4bf9-9e0a-9da561222aae",
   "metadata": {},
   "source": [
    "def Merge(dict1, dict2):\n",
    "\treturn(dict2.update(dict1))\n",
    "\n",
    "dict1 = {'a': 10, 'b': 8}\n",
    "dict2 = {'d': 6, 'c': 4}\n",
    "\n",
    "print(Merge(dict1, dict2))\n",
    "\n",
    "print(dict2)"
   ]
  },
  {
   "cell_type": "markdown",
   "id": "303dcfb4-89e9-4ab4-8d4d-9a9f0810a8be",
   "metadata": {},
   "source": [
    "Q92. Write a Python program to convert a list of tuples into dictionary.\n"
   ]
  },
  {
   "cell_type": "markdown",
   "id": "ee0d75a2-9803-479b-b53e-8b1430dcd068",
   "metadata": {},
   "source": [
    "Input : [('Sachin', 10), ('MSD', 7), ('Kohli', 18), ('Rohit', 45)]\n",
    "Output : {'Sachin': 10, 'MSD': 7, 'Kohli': 18, 'Rohit': 45}"
   ]
  },
  {
   "cell_type": "markdown",
   "id": "d4877914-f649-46e2-8021-11b4a0652ef5",
   "metadata": {},
   "source": [
    "#ANs92\n",
    "print (dict([('Sachin', 10), ('MSD', 7), ('Kohli', 18), ('Rohit', 45)]))"
   ]
  },
  {
   "cell_type": "markdown",
   "id": "3888b677-5d17-40f3-9af4-0848d551a1e2",
   "metadata": {},
   "source": [
    "Q93. Write a Python program to create a list of tuples from given list having number and its cube in each tuple.\n"
   ]
  },
  {
   "cell_type": "markdown",
   "id": "932d4b84-887d-4710-987a-d5e80e9fe6c7",
   "metadata": {},
   "source": [
    "Input: list = [9, 5, 6]\n",
    "Output: [(9, 729), (5, 125), (6, 216)]"
   ]
  },
  {
   "cell_type": "markdown",
   "id": "a56ca538-bb90-4d31-9417-09e8f49ddd95",
   "metadata": {},
   "source": [
    "#Ans 93\n",
    "list1 = [9, 5, 6]\n",
    "\n",
    "res = [(val, pow(val, 3)) for val in list1]\n",
    "\n",
    "print(res)"
   ]
  },
  {
   "cell_type": "markdown",
   "id": "8ba46dbc-b5f6-471d-8423-684d47c0b3f4",
   "metadata": {},
   "source": [
    "Q94. Write a Python program to get all combinations of 2 tuples.\n",
    "Input : test_tuple1 = (7, 2), test_tuple2 = (7, 8)\n",
    "Output : [(7, 7), (7, 8), (2, 7), (2, 8), (7, 7), (7, 2), (8, 7), (8, 2)]\n"
   ]
  },
  {
   "cell_type": "markdown",
   "id": "ea5ad8ca-bb0f-4c3a-9029-f59331713b83",
   "metadata": {},
   "source": [
    "#Ans 94\n",
    "test_tuple1 = (7, 2)\n",
    "test_tuple2 = (7, 8)\n",
    "\n",
    "res = [(a, b) for a in test_tuple1 for b in test_tuple2] + [(a, b) for a in test_tuple2 for b in test_tuple1]\n",
    "\n",
    "print(\"The filtered tuple:\", res)\n"
   ]
  },
  {
   "cell_type": "markdown",
   "id": "1d75b8fb-1647-4741-a721-21fc2b5fa6c7",
   "metadata": {},
   "source": [
    "Q95. Write a Python program to sort a list of tuples by second item.\n",
    "Input : [('452', 10), ('256', 5), ('100', 20), ('135', 15)]\n",
    "Output : [('256', 5), ('452', 10), ('135', 15), ('100', 20)]"
   ]
  },
  {
   "cell_type": "markdown",
   "id": "923f25e2-9c16-44b4-bacb-0b4f48cf3271",
   "metadata": {},
   "source": [
    "\n",
    "#Ans95:\n",
    "def Sort_Tuple(tup):\n",
    "     \n",
    "    lst = len(tup)\n",
    "    for i in range(0, lst):\n",
    "         \n",
    "        for j in range(0, lst-i-1):\n",
    "            if (tup[j][1] > tup[j + 1][1]):\n",
    "                temp = tup[j]\n",
    "                tup[j]= tup[j + 1]\n",
    "                tup[j + 1]= temp\n",
    "    return tup\n",
    " \n",
    "tup =[('452', 10), ('256', 5), ('100', 20), ('135', 15)]\n",
    "       \n",
    "print(Sort_Tuple(tup))"
   ]
  },
  {
   "cell_type": "markdown",
   "id": "7cbc881c-9851-4d5b-b8b2-d178c12da0f3",
   "metadata": {},
   "source": [
    "Q96. Write a python program to print below pattern.\n",
    "\n",
    "* \n",
    "* * \n",
    "* * * \n",
    "* * * * \n",
    "* * * * * "
   ]
  },
  {
   "cell_type": "markdown",
   "id": "fa1da1b7-7fba-46f2-894b-3d58db96ca38",
   "metadata": {},
   "source": [
    "#Ans96\n",
    "def pypart(n):\n",
    "\t\n",
    "\tfor i in range(0, n):\n",
    "\t\n",
    "\t\tfor j in range(0, i+1):\n",
    "\t\t\n",
    "\t\t\tprint(\"* \",end=\"\")\n",
    "\t\n",
    "\t\tprint(\"\\r\")\n",
    "\n",
    "n = 5\n",
    "pypart(n)"
   ]
  },
  {
   "cell_type": "markdown",
   "id": "83e220ca-21fe-47f1-a21e-19542feb8ab1",
   "metadata": {},
   "source": [
    "Q97. Write a python program to print below pattern.\n",
    "\n",
    "    *\n",
    "   **\n",
    "  ***\n",
    " ****\n",
    "*****"
   ]
  },
  {
   "cell_type": "markdown",
   "id": "71c80eff-033f-4dd5-b8d4-dc697534a6cf",
   "metadata": {},
   "source": [
    "#Ans97\n",
    "def inverse_pattern():\n",
    "  n=5;i=0\n",
    "  while(i<=n):\n",
    "    print(\" \" * (n - i) +\"*\" * i)\n",
    "    i+=1\n",
    "\n",
    "inverse_pattern()"
   ]
  },
  {
   "cell_type": "markdown",
   "id": "a7f1c8cd-3f92-495c-b842-8fbddbe9d076",
   "metadata": {},
   "source": [
    "Q98. Write a python program to print below pattern.\n",
    "\n",
    "    * \n",
    "   * * \n",
    "  * * * \n",
    " * * * * \n",
    "* * * * * "
   ]
  },
  {
   "cell_type": "markdown",
   "id": "38d340e2-f632-4293-8c02-87075c4ea825",
   "metadata": {},
   "source": [
    "#Ans 98\n",
    "def triangle(n):\n",
    "\t\n",
    "\tk = n - 1\n",
    "\n",
    "\tfor i in range(0, n):\n",
    "\n",
    "\t\tfor j in range(0, k):\n",
    "\t\t\tprint(end=\" \")\n",
    "\t\n",
    "\t\tk = k - 1\n",
    "\t\n",
    "\t\tfor j in range(0, i+1):\n",
    "\n",
    "\t\t\tprint(\"* \", end=\"\")\n",
    "\t\n",
    "\t\tprint(\"\\r\")\n",
    "\n",
    "n = 5\n",
    "triangle(n)"
   ]
  },
  {
   "cell_type": "markdown",
   "id": "79827549-d424-46f9-a6e4-cd73ae2bc4c9",
   "metadata": {},
   "source": [
    "Q99. Write a python program to print below pattern.\n",
    "\n",
    "1 \n",
    "1 2 \n",
    "1 2 3 \n",
    "1 2 3 4 \n",
    "1 2 3 4 5"
   ]
  },
  {
   "cell_type": "markdown",
   "id": "d4051798-9033-43c2-acac-3ce6d7de39b0",
   "metadata": {},
   "source": [
    "#Ans 99\n",
    "def numpat(n):\n",
    "\n",
    "\tnum = 1\n",
    "\n",
    "\tfor i in range(0, n):\n",
    "\n",
    "\t\tnum = 1\n",
    "\n",
    "\t\tfor j in range(0, i+1):\n",
    "\n",
    "\t\t\tprint(num, end=\" \")\n",
    "\n",
    "\t\t\tnum = num + 1\n",
    "\n",
    "\t\tprint(\"\\r\")\n",
    "\n",
    "n = 5\n",
    "numpat(n)"
   ]
  },
  {
   "cell_type": "markdown",
   "id": "ba55b884-e2c5-4997-bdfc-db4c23dca67c",
   "metadata": {},
   "source": [
    "Q100. Write a python program to print below pattern.\n",
    "\n",
    "A \n",
    "B B \n",
    "C C C \n",
    "D D D D \n",
    "E E E E E "
   ]
  },
  {
   "cell_type": "markdown",
   "id": "2e91d75d-6c33-45a8-b99e-c4fcbd9ece14",
   "metadata": {},
   "source": [
    "#Ans100\n",
    "def alphapat(n):\n",
    "\n",
    "\tnum = 65\n",
    "\n",
    "\tfor i in range(0, n):\n",
    "\t\n",
    "\t\tfor j in range(0, i+1):\n",
    "\n",
    "\t\t\tch = chr(num)\n",
    "\t\t\n",
    "\t\t\tprint(ch, end=\" \")\n",
    "\t\n",
    "\t\tnum = num + 1\n",
    "\t\n",
    "\t\tprint(\"\\r\")\n",
    "\n",
    "n = 5\n",
    "alphapat(n)"
   ]
  },
  {
   "cell_type": "markdown",
   "id": "6a87982c-a334-4a43-9ee8-c3905b879764",
   "metadata": {},
   "source": []
  },
  {
   "cell_type": "code",
   "execution_count": null,
   "id": "8b7b6bb5-b9fe-464d-ab0a-d00ad61b43ee",
   "metadata": {},
   "outputs": [],
   "source": []
  }
 ],
 "metadata": {
  "kernelspec": {
   "display_name": "Python 3 (ipykernel)",
   "language": "python",
   "name": "python3"
  },
  "language_info": {
   "codemirror_mode": {
    "name": "ipython",
    "version": 3
   },
   "file_extension": ".py",
   "mimetype": "text/x-python",
   "name": "python",
   "nbconvert_exporter": "python",
   "pygments_lexer": "ipython3",
   "version": "3.10.6"
  }
 },
 "nbformat": 4,
 "nbformat_minor": 5
}
